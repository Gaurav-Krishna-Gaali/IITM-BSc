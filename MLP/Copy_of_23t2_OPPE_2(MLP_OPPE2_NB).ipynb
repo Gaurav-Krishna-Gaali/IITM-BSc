{
  "nbformat": 4,
  "nbformat_minor": 0,
  "metadata": {
    "colab": {
      "provenance": []
    },
    "kernelspec": {
      "name": "python3",
      "display_name": "Python 3"
    },
    "language_info": {
      "name": "python"
    }
  },
  "cells": [
    {
      "cell_type": "code",
      "execution_count": null,
      "metadata": {
        "id": "8GjccW5M8wLd"
      },
      "outputs": [],
      "source": [
        "import numpy as np\n",
        "import pandas as pd\n",
        "import matplotlib.pyplot as plt\n",
        "import seaborn as sns"
      ]
    },
    {
      "cell_type": "code",
      "source": [
        "import warnings\n",
        "\n",
        "warnings.filterwarnings(\"ignore\")\n"
      ],
      "metadata": {
        "id": "Gl9mf0F7Y-M7"
      },
      "execution_count": null,
      "outputs": []
    },
    {
      "cell_type": "code",
      "source": [
        "from sklearn.model_selection import train_test_split,GridSearchCV,RandomizedSearchCV, KFold\n",
        "\n",
        "# Estimators\n",
        "from sklearn.linear_model import LogisticRegression,Perceptron,SGDClassifier\n",
        "from sklearn.svm import SVC\n",
        "\n",
        "from sklearn.neighbors import KNeighborsClassifier\n",
        "from sklearn.tree import DecisionTreeClassifier\n",
        "from sklearn.ensemble import BaggingClassifier,RandomForestClassifier,GradientBoostingClassifier,AdaBoostClassifier\n",
        "\n",
        "from sklearn.metrics import confusion_matrix\n",
        "from sklearn.model_selection import GridSearchCV\n",
        "\n",
        "# Metrics\n",
        "from sklearn.metrics import accuracy_score,recall_score,f1_score,precision_score\n",
        "from sklearn.metrics import ConfusionMatrixDisplay, classification_report\n"
      ],
      "metadata": {
        "id": "MgBiVnh39BFe"
      },
      "execution_count": null,
      "outputs": []
    },
    {
      "cell_type": "markdown",
      "source": [
        "#Preamble: Load the dataset and examine it."
      ],
      "metadata": {
        "id": "NQ4K3RkhQvjI"
      }
    },
    {
      "cell_type": "markdown",
      "source": [
        "### Notes:\n",
        "\n",
        "* Maximum marks : 80\n",
        "\n",
        "* This exam consists of a **CLASSIFICATION** problem.  \n",
        "\n",
        "* The target is the '**Heart_Disease**' column.\n",
        "\n",
        "* Random state should be taken as 64 wherever applicable.\n",
        "\n",
        "* For NAT type of question if nothing is mentioned, Enter the answer accurately upto 3 decimal places.\n",
        "\n",
        "* The dataset is already preprocessed, i.e. no missing values and numerical and categorical features are scaled/encoded accordingly.\n",
        "\n",
        "* Sklearn assumes class 1 as positive class. Therefore, precision, recall are calculated for class 1."
      ],
      "metadata": {
        "id": "6z89qp7XQwsM"
      }
    },
    {
      "cell_type": "markdown",
      "source": [],
      "metadata": {
        "id": "28s-TAwwPJMF"
      }
    },
    {
      "cell_type": "markdown",
      "source": [
        "###Q1. [marks : 0] Which dataset are you using for this exam?\n",
        "\n",
        "Options:\n",
        "\n",
        "A) V1\n",
        "\n",
        "B) V2\n",
        "\n",
        "C) V3\n",
        "\n",
        "D) V4\n",
        "\n",
        "E) V5\n",
        "\n",
        "\n",
        "Answer:\n",
        "V1: A, V2:B, V3: C, V4:D, V5:E"
      ],
      "metadata": {
        "id": "gBEEB7W6Link"
      }
    },
    {
      "cell_type": "code",
      "source": [
        "df = pd.read_csv('/content/V2.csv')"
      ],
      "metadata": {
        "id": "g-9AX9WZK2Wk"
      },
      "execution_count": null,
      "outputs": []
    },
    {
      "cell_type": "code",
      "source": [
        "df.shape"
      ],
      "metadata": {
        "colab": {
          "base_uri": "https://localhost:8080/"
        },
        "id": "0Z5wYygoLGx-",
        "outputId": "5be4b149-d33f-458a-da47-1bae7e4a7542"
      },
      "execution_count": null,
      "outputs": [
        {
          "output_type": "execute_result",
          "data": {
            "text/plain": [
              "(12499, 19)"
            ]
          },
          "metadata": {},
          "execution_count": 5
        }
      ]
    },
    {
      "cell_type": "code",
      "source": [
        "Data = df.copy()"
      ],
      "metadata": {
        "id": "4bmXg5ZQLKE6"
      },
      "execution_count": null,
      "outputs": []
    },
    {
      "cell_type": "code",
      "source": [
        "Data.head()\n",
        "Data.columns"
      ],
      "metadata": {
        "colab": {
          "base_uri": "https://localhost:8080/"
        },
        "id": "v62veQsCLv5j",
        "outputId": "72e5a754-993a-4728-ddd8-98ab775e6db5"
      },
      "execution_count": null,
      "outputs": [
        {
          "output_type": "execute_result",
          "data": {
            "text/plain": [
              "Index(['General_Health', 'Checkup', 'Exercise', 'Skin_Cancer', 'Other_Cancer',\n",
              "       'Depression', 'Diabetes', 'Arthritis', 'Sex', 'Age_Category',\n",
              "       'Height_(cm)', 'Weight_(kg)', 'BMI', 'Smoking_History',\n",
              "       'Alcohol_Consumption', 'Fruit_Consumption',\n",
              "       'Green_Vegetables_Consumption', 'FriedPotato_Consumption',\n",
              "       'Heart_Disease'],\n",
              "      dtype='object')"
            ]
          },
          "metadata": {},
          "execution_count": 7
        }
      ]
    },
    {
      "cell_type": "code",
      "source": [],
      "metadata": {
        "id": "mVKOKU-DOzUp"
      },
      "execution_count": null,
      "outputs": []
    },
    {
      "cell_type": "markdown",
      "source": [
        "##Q2 [Marks =3] Break the dataset into features(`X`) and label (`y`), where the column `Heart_Disease` goes to `y` and the rest of the columns go to `X`. What proportion of data points belongs to label 1?  [NAT]\n",
        "\n",
        "Answer:\n",
        "\n",
        "V1: 0.58 Range: [0.54, 0.62]\n",
        "\n",
        "V2: 0.58 Range: [0.54, 0.62]\n",
        "\n",
        "V3: 0.58 Range: [0.54, 0.62]\n",
        "\n",
        "V4: 0.58 Range: [0.54, 0.62]\n",
        "\n",
        "V5: 0.58 Range: [0.54, 0.62]\n"
      ],
      "metadata": {
        "id": "Tx5zvwsILsNp"
      }
    },
    {
      "cell_type": "code",
      "source": [
        "X = Data.drop(['Heart_Disease'], axis = 1)\n",
        "y = Data['Heart_Disease']"
      ],
      "metadata": {
        "id": "wFDoZTjfWnwC"
      },
      "execution_count": null,
      "outputs": []
    },
    {
      "cell_type": "code",
      "source": [
        "Data.Heart_Disease.value_counts()/(len(Data))"
      ],
      "metadata": {
        "colab": {
          "base_uri": "https://localhost:8080/"
        },
        "id": "CgM16u_tL91D",
        "outputId": "7d3d5107-4620-4758-e2a8-98385d04dcbd"
      },
      "execution_count": null,
      "outputs": [
        {
          "output_type": "execute_result",
          "data": {
            "text/plain": [
              "1    0.587407\n",
              "0    0.412593\n",
              "Name: Heart_Disease, dtype: float64"
            ]
          },
          "metadata": {},
          "execution_count": 9
        }
      ]
    },
    {
      "cell_type": "code",
      "source": [],
      "metadata": {
        "id": "b6d11VWxWnHH"
      },
      "execution_count": null,
      "outputs": []
    },
    {
      "cell_type": "markdown",
      "source": [
        "##Q3 [Marks : 3] Split the dataset into train and test dataset into the `80:20` ratio while keeping `random_state =64`. How many examples are there in training dataset?\n",
        "\n",
        "\n",
        "Ans: $9999$ (No range is required) for all version"
      ],
      "metadata": {
        "id": "68CjDl11WWjK"
      }
    },
    {
      "cell_type": "code",
      "source": [
        "X_train, X_test, y_train, y_test = train_test_split(X, y, test_size = 0.2, random_state = 64)\n",
        "\n",
        "# print(X_train.shape)\n",
        "#print(X_test.shape)\n",
        "print(y_train.shape)\n",
        "#print(y_test.shape)"
      ],
      "metadata": {
        "colab": {
          "base_uri": "https://localhost:8080/"
        },
        "id": "rWeduNs8WZRy",
        "outputId": "4da4fc12-b5ca-4cac-e916-2a29077e59b6"
      },
      "execution_count": null,
      "outputs": [
        {
          "output_type": "stream",
          "name": "stdout",
          "text": [
            "(9999,)\n"
          ]
        }
      ]
    },
    {
      "cell_type": "markdown",
      "source": [
        "##Q4 [4 marks][NAT] Take `LogisticRegression` estimator with following parameters for training:\n",
        "  - Use `lbfgs` as solver\n",
        "  - Set random state to be equal to 64\n",
        "  - Tolerance for stopping criteria to be 1e-4\n",
        "  - inverse of regularization parameter, `C` = 0.1\n",
        "  - Maximum number of iterations taken for the solvers to converge to be 100\n",
        "\n",
        "Enter the f1 score for the given model using test set(X_test, y_test)\n",
        "\n",
        "\n",
        "V1: 0.88 (Range: 0.82 , 0.92)\n",
        "\n",
        "V2: 0.86 (Range: 0.8 , 0.9)\n",
        "\n",
        "V3: 0.88 (Range: 0.82 , 0.92)\n",
        "  \n",
        "V4: 0.88 (Range: 0.82 , 0.92)\n",
        "   \n",
        "V5: 0.88 (Range: 0.82 , 0.92)\n"
      ],
      "metadata": {
        "id": "j1USTLhzW9mX"
      }
    },
    {
      "cell_type": "code",
      "source": [
        "logistic = LogisticRegression(solver='lbfgs',\n",
        "                              tol=1e-4,\n",
        "                              max_iter=100, C = 0.1,\n",
        "                              random_state =64)\n",
        "logistic.fit(X_train, y_train)\n",
        "\n",
        "y_pred = logistic.predict(X_test)\n",
        "\n",
        "f1_score(y_test,y_pred)"
      ],
      "metadata": {
        "colab": {
          "base_uri": "https://localhost:8080/"
        },
        "id": "IPFjxE8fXHXR",
        "outputId": "f3f72496-6a50-4f5a-9e36-96625afa6c0c"
      },
      "execution_count": null,
      "outputs": [
        {
          "output_type": "execute_result",
          "data": {
            "text/plain": [
              "0.8649186856953204"
            ]
          },
          "metadata": {},
          "execution_count": 11
        }
      ]
    },
    {
      "cell_type": "markdown",
      "source": [
        "## Q 5 [4 marks] [NAT]: What is the intercept (bias term in the decision function) learnt by the the above model?\n",
        "\n",
        "**Answer**\n",
        "\n",
        "V1: $-0.09$ Range: [-0.12, -0.06]\n",
        "\n",
        "V2: $-0.08$ Range: [-0.11, -0.05]\n",
        "\n",
        "V3: $-0.11$ Range: [-0.15, -0.07]\n",
        "\n",
        "V4: $-0.09$ Range: [-0.12, -0.06]\n",
        "\n",
        "V5: $-0.10$ Range: [-0.14, -0.06]"
      ],
      "metadata": {
        "id": "Ctl7KhotZcXL"
      }
    },
    {
      "cell_type": "code",
      "source": [
        "logistic.intercept_"
      ],
      "metadata": {
        "colab": {
          "base_uri": "https://localhost:8080/"
        },
        "id": "YmgOb1umYud6",
        "outputId": "c03c55f9-9bb3-4f48-da5a-73687bab40b7"
      },
      "execution_count": null,
      "outputs": [
        {
          "output_type": "execute_result",
          "data": {
            "text/plain": [
              "array([-0.08906489])"
            ]
          },
          "metadata": {},
          "execution_count": 12
        }
      ]
    },
    {
      "cell_type": "markdown",
      "source": [
        "# **(Common Instructions for Q6 and Q7)**\n",
        "\n",
        "Take LogisticRegression(random_state = 64) estimator with GridSearchCV. Hyperparameter tuning to be done over the following parameters:\n",
        "\n",
        "- solver as 'lbfgs' or 'sag'\n",
        "\n",
        "- Maximum number of iterations taken for the solvers to converge to be [100, 200, 500]\n",
        "\n",
        "- value of inverse reularization parameter `C` to be [0.01, 0.1, 1, 10]\n",
        "\n",
        "- Use cross validation = 3\n",
        "\n",
        "\n",
        "Use the best model from above hyper parameter turing process to answer following questions:"
      ],
      "metadata": {
        "id": "CyQT1K4Xbud0"
      }
    },
    {
      "cell_type": "code",
      "source": [
        "LR_clf = LogisticRegression(random_state = 64)\n",
        "\n",
        "LR_params = {'solver':['lbfgs','sag'],\n",
        "          'C':[0.01, 0.1, 1, 10],\n",
        "          'max_iter':[100, 200,500]}\n",
        "\n",
        "LR_gscv = GridSearchCV(LR_clf,\n",
        "                    LR_params,\n",
        "                    cv= 4,)\n",
        "\n",
        "LR_gscv.fit(X_train, y_train)"
      ],
      "metadata": {
        "colab": {
          "base_uri": "https://localhost:8080/",
          "height": 116
        },
        "id": "DWMvfQwocfiH",
        "outputId": "39411f79-c23a-489d-f162-c96b982280be"
      },
      "execution_count": null,
      "outputs": [
        {
          "output_type": "execute_result",
          "data": {
            "text/plain": [
              "GridSearchCV(cv=4, estimator=LogisticRegression(random_state=64),\n",
              "             param_grid={'C': [0.01, 0.1, 1, 10], 'max_iter': [100, 200, 500],\n",
              "                         'solver': ['lbfgs', 'sag']})"
            ],
            "text/html": [
              "<style>#sk-container-id-1 {color: black;background-color: white;}#sk-container-id-1 pre{padding: 0;}#sk-container-id-1 div.sk-toggleable {background-color: white;}#sk-container-id-1 label.sk-toggleable__label {cursor: pointer;display: block;width: 100%;margin-bottom: 0;padding: 0.3em;box-sizing: border-box;text-align: center;}#sk-container-id-1 label.sk-toggleable__label-arrow:before {content: \"▸\";float: left;margin-right: 0.25em;color: #696969;}#sk-container-id-1 label.sk-toggleable__label-arrow:hover:before {color: black;}#sk-container-id-1 div.sk-estimator:hover label.sk-toggleable__label-arrow:before {color: black;}#sk-container-id-1 div.sk-toggleable__content {max-height: 0;max-width: 0;overflow: hidden;text-align: left;background-color: #f0f8ff;}#sk-container-id-1 div.sk-toggleable__content pre {margin: 0.2em;color: black;border-radius: 0.25em;background-color: #f0f8ff;}#sk-container-id-1 input.sk-toggleable__control:checked~div.sk-toggleable__content {max-height: 200px;max-width: 100%;overflow: auto;}#sk-container-id-1 input.sk-toggleable__control:checked~label.sk-toggleable__label-arrow:before {content: \"▾\";}#sk-container-id-1 div.sk-estimator input.sk-toggleable__control:checked~label.sk-toggleable__label {background-color: #d4ebff;}#sk-container-id-1 div.sk-label input.sk-toggleable__control:checked~label.sk-toggleable__label {background-color: #d4ebff;}#sk-container-id-1 input.sk-hidden--visually {border: 0;clip: rect(1px 1px 1px 1px);clip: rect(1px, 1px, 1px, 1px);height: 1px;margin: -1px;overflow: hidden;padding: 0;position: absolute;width: 1px;}#sk-container-id-1 div.sk-estimator {font-family: monospace;background-color: #f0f8ff;border: 1px dotted black;border-radius: 0.25em;box-sizing: border-box;margin-bottom: 0.5em;}#sk-container-id-1 div.sk-estimator:hover {background-color: #d4ebff;}#sk-container-id-1 div.sk-parallel-item::after {content: \"\";width: 100%;border-bottom: 1px solid gray;flex-grow: 1;}#sk-container-id-1 div.sk-label:hover label.sk-toggleable__label {background-color: #d4ebff;}#sk-container-id-1 div.sk-serial::before {content: \"\";position: absolute;border-left: 1px solid gray;box-sizing: border-box;top: 0;bottom: 0;left: 50%;z-index: 0;}#sk-container-id-1 div.sk-serial {display: flex;flex-direction: column;align-items: center;background-color: white;padding-right: 0.2em;padding-left: 0.2em;position: relative;}#sk-container-id-1 div.sk-item {position: relative;z-index: 1;}#sk-container-id-1 div.sk-parallel {display: flex;align-items: stretch;justify-content: center;background-color: white;position: relative;}#sk-container-id-1 div.sk-item::before, #sk-container-id-1 div.sk-parallel-item::before {content: \"\";position: absolute;border-left: 1px solid gray;box-sizing: border-box;top: 0;bottom: 0;left: 50%;z-index: -1;}#sk-container-id-1 div.sk-parallel-item {display: flex;flex-direction: column;z-index: 1;position: relative;background-color: white;}#sk-container-id-1 div.sk-parallel-item:first-child::after {align-self: flex-end;width: 50%;}#sk-container-id-1 div.sk-parallel-item:last-child::after {align-self: flex-start;width: 50%;}#sk-container-id-1 div.sk-parallel-item:only-child::after {width: 0;}#sk-container-id-1 div.sk-dashed-wrapped {border: 1px dashed gray;margin: 0 0.4em 0.5em 0.4em;box-sizing: border-box;padding-bottom: 0.4em;background-color: white;}#sk-container-id-1 div.sk-label label {font-family: monospace;font-weight: bold;display: inline-block;line-height: 1.2em;}#sk-container-id-1 div.sk-label-container {text-align: center;}#sk-container-id-1 div.sk-container {/* jupyter's `normalize.less` sets `[hidden] { display: none; }` but bootstrap.min.css set `[hidden] { display: none !important; }` so we also need the `!important` here to be able to override the default hidden behavior on the sphinx rendered scikit-learn.org. See: https://github.com/scikit-learn/scikit-learn/issues/21755 */display: inline-block !important;position: relative;}#sk-container-id-1 div.sk-text-repr-fallback {display: none;}</style><div id=\"sk-container-id-1\" class=\"sk-top-container\"><div class=\"sk-text-repr-fallback\"><pre>GridSearchCV(cv=4, estimator=LogisticRegression(random_state=64),\n",
              "             param_grid={&#x27;C&#x27;: [0.01, 0.1, 1, 10], &#x27;max_iter&#x27;: [100, 200, 500],\n",
              "                         &#x27;solver&#x27;: [&#x27;lbfgs&#x27;, &#x27;sag&#x27;]})</pre><b>In a Jupyter environment, please rerun this cell to show the HTML representation or trust the notebook. <br />On GitHub, the HTML representation is unable to render, please try loading this page with nbviewer.org.</b></div><div class=\"sk-container\" hidden><div class=\"sk-item sk-dashed-wrapped\"><div class=\"sk-label-container\"><div class=\"sk-label sk-toggleable\"><input class=\"sk-toggleable__control sk-hidden--visually\" id=\"sk-estimator-id-1\" type=\"checkbox\" ><label for=\"sk-estimator-id-1\" class=\"sk-toggleable__label sk-toggleable__label-arrow\">GridSearchCV</label><div class=\"sk-toggleable__content\"><pre>GridSearchCV(cv=4, estimator=LogisticRegression(random_state=64),\n",
              "             param_grid={&#x27;C&#x27;: [0.01, 0.1, 1, 10], &#x27;max_iter&#x27;: [100, 200, 500],\n",
              "                         &#x27;solver&#x27;: [&#x27;lbfgs&#x27;, &#x27;sag&#x27;]})</pre></div></div></div><div class=\"sk-parallel\"><div class=\"sk-parallel-item\"><div class=\"sk-item\"><div class=\"sk-label-container\"><div class=\"sk-label sk-toggleable\"><input class=\"sk-toggleable__control sk-hidden--visually\" id=\"sk-estimator-id-2\" type=\"checkbox\" ><label for=\"sk-estimator-id-2\" class=\"sk-toggleable__label sk-toggleable__label-arrow\">estimator: LogisticRegression</label><div class=\"sk-toggleable__content\"><pre>LogisticRegression(random_state=64)</pre></div></div></div><div class=\"sk-serial\"><div class=\"sk-item\"><div class=\"sk-estimator sk-toggleable\"><input class=\"sk-toggleable__control sk-hidden--visually\" id=\"sk-estimator-id-3\" type=\"checkbox\" ><label for=\"sk-estimator-id-3\" class=\"sk-toggleable__label sk-toggleable__label-arrow\">LogisticRegression</label><div class=\"sk-toggleable__content\"><pre>LogisticRegression(random_state=64)</pre></div></div></div></div></div></div></div></div></div></div>"
            ]
          },
          "metadata": {},
          "execution_count": 13
        }
      ]
    },
    {
      "cell_type": "markdown",
      "source": [
        "## Q6:[Marks: 4] [NAT] Enter the value of `C` of the best estimator you got after training with GridSearchCV.\n",
        "\n",
        "\n",
        "\n",
        "Answer:\n",
        "\n",
        " V1: $1$\n",
        "\n",
        " V2: $10$\n",
        "\n",
        "V3: $10$\n",
        "\n",
        "V4: $1$\n",
        "\n",
        "V5: $10$\n",
        "\n"
      ],
      "metadata": {
        "id": "q7Pw_EbLdkbF"
      }
    },
    {
      "cell_type": "code",
      "source": [
        "LR_gscv.best_params_"
      ],
      "metadata": {
        "colab": {
          "base_uri": "https://localhost:8080/"
        },
        "id": "BXbz8vqddqJW",
        "outputId": "00861823-af12-42ad-93ff-0603102f5741"
      },
      "execution_count": null,
      "outputs": [
        {
          "output_type": "execute_result",
          "data": {
            "text/plain": [
              "{'C': 10, 'max_iter': 200, 'solver': 'lbfgs'}"
            ]
          },
          "metadata": {},
          "execution_count": 14
        }
      ]
    },
    {
      "cell_type": "markdown",
      "source": [
        "## Q7. [Marks: 4][NAT] Enter the value of the precision on the test set using the best model:\n",
        "\n",
        " Answer:\n",
        "\n",
        "V1: 0.86 (Range : 0.81 ,0.91)\n",
        "\n",
        "V2: 0.854 (Range: 0.8, 0.9)\n",
        "\n",
        "V3: 0.87 (Range: 0.82, 0.92)\n",
        "  \n",
        "V4: 0.86 (Range: 0.81, 0.91)  \n",
        "   \n",
        "V5: 0.86 (Range: 0.81, 0.91)"
      ],
      "metadata": {
        "id": "qpq7XE5T2kAi"
      }
    },
    {
      "cell_type": "code",
      "source": [
        "y_pred = LR_gscv.best_estimator_.predict(X_test)\n",
        "precision_score(y_test,y_pred)"
      ],
      "metadata": {
        "colab": {
          "base_uri": "https://localhost:8080/"
        },
        "id": "qHhzsgdHdU0k",
        "outputId": "2e3573a2-a013-495a-8a5a-1612c6ce0546"
      },
      "execution_count": null,
      "outputs": [
        {
          "output_type": "execute_result",
          "data": {
            "text/plain": [
              "0.854521625163827"
            ]
          },
          "metadata": {},
          "execution_count": 15
        }
      ]
    },
    {
      "cell_type": "markdown",
      "source": [
        "##Q8  [6 marks] [NAT] Use  `SGDClassifier` on the training dataset (`X_train` and `y_train`) to train the model. Use the following parameters:\n",
        "\n",
        "1. `log_loss`is the loss function to be used\n",
        "2. apply ridge regularization,\n",
        "3. maximum number of iterations is 10\n",
        "4. constant learning rate of 0.01,\n",
        "5. regularization rate value is 0.001,\n",
        "6. Take random_state=64.\n",
        "7. Set warm_start as False\n",
        "\n",
        "Note : Please ignore the convergence warning.\n",
        "\n",
        "Using above model, calculate and write the correct value of f1_score for the test set.\n",
        "\n",
        "Ans:\n",
        "\n",
        "V1. 0.78 (Range: 0.74, 0.82)\n",
        "\n",
        "V2: 0.855 (Range: 0.8, 0.9)\n",
        "\n",
        "V3: 0.858 (Range: 0.8, 0.9)\n",
        "\n",
        "V4: 0.862 (Range: 0.81, 0.91)\n",
        "\n",
        "V5: 0.826 (Range: 0.78, 0.86)\n",
        "\n"
      ],
      "metadata": {
        "id": "jRLWI9SsaJZv"
      }
    },
    {
      "cell_type": "code",
      "source": [
        "logistic_sgd = SGDClassifier(loss='log_loss',\n",
        "                        penalty='l2',\n",
        "                        max_iter=10,\n",
        "                        warm_start=False,\n",
        "                        eta0=0.01,\n",
        "                        alpha=0.001,\n",
        "                        learning_rate='constant',\n",
        "                        random_state=64)\n",
        "\n",
        "logistic_sgd.fit(X_train,y_train)"
      ],
      "metadata": {
        "colab": {
          "base_uri": "https://localhost:8080/",
          "height": 91
        },
        "id": "ZwO0MFf03M94",
        "outputId": "e9a37656-46ec-4aa9-e4c2-22e16d3998aa"
      },
      "execution_count": null,
      "outputs": [
        {
          "output_type": "execute_result",
          "data": {
            "text/plain": [
              "SGDClassifier(alpha=0.001, eta0=0.01, learning_rate='constant', loss='log_loss',\n",
              "              max_iter=10, random_state=64)"
            ],
            "text/html": [
              "<style>#sk-container-id-2 {color: black;background-color: white;}#sk-container-id-2 pre{padding: 0;}#sk-container-id-2 div.sk-toggleable {background-color: white;}#sk-container-id-2 label.sk-toggleable__label {cursor: pointer;display: block;width: 100%;margin-bottom: 0;padding: 0.3em;box-sizing: border-box;text-align: center;}#sk-container-id-2 label.sk-toggleable__label-arrow:before {content: \"▸\";float: left;margin-right: 0.25em;color: #696969;}#sk-container-id-2 label.sk-toggleable__label-arrow:hover:before {color: black;}#sk-container-id-2 div.sk-estimator:hover label.sk-toggleable__label-arrow:before {color: black;}#sk-container-id-2 div.sk-toggleable__content {max-height: 0;max-width: 0;overflow: hidden;text-align: left;background-color: #f0f8ff;}#sk-container-id-2 div.sk-toggleable__content pre {margin: 0.2em;color: black;border-radius: 0.25em;background-color: #f0f8ff;}#sk-container-id-2 input.sk-toggleable__control:checked~div.sk-toggleable__content {max-height: 200px;max-width: 100%;overflow: auto;}#sk-container-id-2 input.sk-toggleable__control:checked~label.sk-toggleable__label-arrow:before {content: \"▾\";}#sk-container-id-2 div.sk-estimator input.sk-toggleable__control:checked~label.sk-toggleable__label {background-color: #d4ebff;}#sk-container-id-2 div.sk-label input.sk-toggleable__control:checked~label.sk-toggleable__label {background-color: #d4ebff;}#sk-container-id-2 input.sk-hidden--visually {border: 0;clip: rect(1px 1px 1px 1px);clip: rect(1px, 1px, 1px, 1px);height: 1px;margin: -1px;overflow: hidden;padding: 0;position: absolute;width: 1px;}#sk-container-id-2 div.sk-estimator {font-family: monospace;background-color: #f0f8ff;border: 1px dotted black;border-radius: 0.25em;box-sizing: border-box;margin-bottom: 0.5em;}#sk-container-id-2 div.sk-estimator:hover {background-color: #d4ebff;}#sk-container-id-2 div.sk-parallel-item::after {content: \"\";width: 100%;border-bottom: 1px solid gray;flex-grow: 1;}#sk-container-id-2 div.sk-label:hover label.sk-toggleable__label {background-color: #d4ebff;}#sk-container-id-2 div.sk-serial::before {content: \"\";position: absolute;border-left: 1px solid gray;box-sizing: border-box;top: 0;bottom: 0;left: 50%;z-index: 0;}#sk-container-id-2 div.sk-serial {display: flex;flex-direction: column;align-items: center;background-color: white;padding-right: 0.2em;padding-left: 0.2em;position: relative;}#sk-container-id-2 div.sk-item {position: relative;z-index: 1;}#sk-container-id-2 div.sk-parallel {display: flex;align-items: stretch;justify-content: center;background-color: white;position: relative;}#sk-container-id-2 div.sk-item::before, #sk-container-id-2 div.sk-parallel-item::before {content: \"\";position: absolute;border-left: 1px solid gray;box-sizing: border-box;top: 0;bottom: 0;left: 50%;z-index: -1;}#sk-container-id-2 div.sk-parallel-item {display: flex;flex-direction: column;z-index: 1;position: relative;background-color: white;}#sk-container-id-2 div.sk-parallel-item:first-child::after {align-self: flex-end;width: 50%;}#sk-container-id-2 div.sk-parallel-item:last-child::after {align-self: flex-start;width: 50%;}#sk-container-id-2 div.sk-parallel-item:only-child::after {width: 0;}#sk-container-id-2 div.sk-dashed-wrapped {border: 1px dashed gray;margin: 0 0.4em 0.5em 0.4em;box-sizing: border-box;padding-bottom: 0.4em;background-color: white;}#sk-container-id-2 div.sk-label label {font-family: monospace;font-weight: bold;display: inline-block;line-height: 1.2em;}#sk-container-id-2 div.sk-label-container {text-align: center;}#sk-container-id-2 div.sk-container {/* jupyter's `normalize.less` sets `[hidden] { display: none; }` but bootstrap.min.css set `[hidden] { display: none !important; }` so we also need the `!important` here to be able to override the default hidden behavior on the sphinx rendered scikit-learn.org. See: https://github.com/scikit-learn/scikit-learn/issues/21755 */display: inline-block !important;position: relative;}#sk-container-id-2 div.sk-text-repr-fallback {display: none;}</style><div id=\"sk-container-id-2\" class=\"sk-top-container\"><div class=\"sk-text-repr-fallback\"><pre>SGDClassifier(alpha=0.001, eta0=0.01, learning_rate=&#x27;constant&#x27;, loss=&#x27;log_loss&#x27;,\n",
              "              max_iter=10, random_state=64)</pre><b>In a Jupyter environment, please rerun this cell to show the HTML representation or trust the notebook. <br />On GitHub, the HTML representation is unable to render, please try loading this page with nbviewer.org.</b></div><div class=\"sk-container\" hidden><div class=\"sk-item\"><div class=\"sk-estimator sk-toggleable\"><input class=\"sk-toggleable__control sk-hidden--visually\" id=\"sk-estimator-id-4\" type=\"checkbox\" checked><label for=\"sk-estimator-id-4\" class=\"sk-toggleable__label sk-toggleable__label-arrow\">SGDClassifier</label><div class=\"sk-toggleable__content\"><pre>SGDClassifier(alpha=0.001, eta0=0.01, learning_rate=&#x27;constant&#x27;, loss=&#x27;log_loss&#x27;,\n",
              "              max_iter=10, random_state=64)</pre></div></div></div></div></div>"
            ]
          },
          "metadata": {},
          "execution_count": 16
        }
      ]
    },
    {
      "cell_type": "code",
      "source": [
        "f1_score(y_test,  logistic_sgd.predict(X_test))"
      ],
      "metadata": {
        "colab": {
          "base_uri": "https://localhost:8080/"
        },
        "id": "njtuALJT3flv",
        "outputId": "d84e7cdd-1561-4167-e5c6-57f608b94432"
      },
      "execution_count": null,
      "outputs": [
        {
          "output_type": "execute_result",
          "data": {
            "text/plain": [
              "0.8557487038731321"
            ]
          },
          "metadata": {},
          "execution_count": 17
        }
      ]
    },
    {
      "cell_type": "markdown",
      "source": [
        "\n",
        "\n",
        "## Q9. [4 marks] [MCQ] Use Gridsearchcv with KNeighborsClassifier estimator, `f1` as scoring parameter, cv= 5. Consider [5,7,9,11] as K values to be examined.\n",
        "* Consider following parameters for KNeighborsClassifier:\n",
        "\n",
        " - Use Euclidean distance metric\n",
        "\n",
        "\n",
        "- Keep other parameter values as default values.\n",
        "\n",
        "What is the best value of K you obtained using the above instructions?\n",
        "\n",
        "\n",
        "\n",
        "Ans:\n",
        "\n",
        "V1: $9$\n",
        "\n",
        "V2: $11$\n",
        "\n",
        "V3: $7$\n",
        "\n",
        "V4: $11$\n",
        "\n",
        "V5: $7$"
      ],
      "metadata": {
        "id": "9wj8cJE-39_n"
      }
    },
    {
      "cell_type": "code",
      "source": [
        "knn_clf = KNeighborsClassifier(metric = 'euclidean')\n",
        "\n",
        "knn_gscv = GridSearchCV(knn_clf,\n",
        "                  param_grid= {'n_neighbors':[5, 7 , 9, 11]},\n",
        "                  scoring='f1',\n",
        "                  cv=5)\n",
        "\n",
        "knn_gscv.fit(X_train,y_train)\n",
        "knn_gscv.best_params_"
      ],
      "metadata": {
        "colab": {
          "base_uri": "https://localhost:8080/"
        },
        "id": "le9XlKzo4Ndc",
        "outputId": "720cd569-a782-45bf-89f0-77206cec36c8"
      },
      "execution_count": null,
      "outputs": [
        {
          "output_type": "execute_result",
          "data": {
            "text/plain": [
              "{'n_neighbors': 11}"
            ]
          },
          "metadata": {},
          "execution_count": 18
        }
      ]
    },
    {
      "cell_type": "markdown",
      "source": [
        "# **(Common Instructions for Q10 and Q11)**\n",
        "\n",
        "Take DecisionTreeClassifier(random_state = 64) estimator with GridSearchCV. Hyperparameter tuning to be done over the following parameters:\n",
        "\n",
        "- Criterion as 'entropy' or 'gini'\n",
        "\n",
        "- Splitter as 'random' or 'best'\n",
        "\n",
        "- Minimum number of samples per leaf as [6,8,10, 12, 14]\n",
        "\n",
        "- Maximum depth as [5,6, 7, 8]\n",
        "\n",
        "- Minimum mumber of samples per node to split as [16, 18, 20, 22]\n",
        "\n",
        "- Use cross validation = 3\n",
        "\n",
        "\n",
        "Use the best model from above hyper parameter turing process to answer following questions:"
      ],
      "metadata": {
        "id": "2SEZNZQOBISC"
      }
    },
    {
      "cell_type": "code",
      "source": [
        "\n",
        "dt_clf = DecisionTreeClassifier(random_state = 64)\n",
        "\n",
        "params = {'criterion':['gini','entropy'],\n",
        "          'splitter':['best','random'],\n",
        "          'min_samples_leaf': [6,8,10, 12, 14],\n",
        "          'max_depth':[5,6, 7, 8], 'min_samples_split': [16, 18, 20, 22]}\n",
        "\n",
        "# t=KFold(n_splits = 4, random_state = 64)\n",
        "dt_gscv = GridSearchCV(dt_clf,\n",
        "                    params,\n",
        "                    cv= 3,)\n",
        "\n",
        "dt_gscv.fit(X_train, y_train)"
      ],
      "metadata": {
        "colab": {
          "base_uri": "https://localhost:8080/",
          "height": 116
        },
        "id": "IHd88mLxBRqZ",
        "outputId": "863a64fc-fa5f-4ce7-ecc5-71792ff5114e"
      },
      "execution_count": null,
      "outputs": [
        {
          "output_type": "execute_result",
          "data": {
            "text/plain": [
              "GridSearchCV(cv=3, estimator=DecisionTreeClassifier(random_state=64),\n",
              "             param_grid={'criterion': ['gini', 'entropy'],\n",
              "                         'max_depth': [5, 6, 7, 8],\n",
              "                         'min_samples_leaf': [6, 8, 10, 12, 14],\n",
              "                         'min_samples_split': [16, 18, 20, 22],\n",
              "                         'splitter': ['best', 'random']})"
            ],
            "text/html": [
              "<style>#sk-container-id-3 {color: black;background-color: white;}#sk-container-id-3 pre{padding: 0;}#sk-container-id-3 div.sk-toggleable {background-color: white;}#sk-container-id-3 label.sk-toggleable__label {cursor: pointer;display: block;width: 100%;margin-bottom: 0;padding: 0.3em;box-sizing: border-box;text-align: center;}#sk-container-id-3 label.sk-toggleable__label-arrow:before {content: \"▸\";float: left;margin-right: 0.25em;color: #696969;}#sk-container-id-3 label.sk-toggleable__label-arrow:hover:before {color: black;}#sk-container-id-3 div.sk-estimator:hover label.sk-toggleable__label-arrow:before {color: black;}#sk-container-id-3 div.sk-toggleable__content {max-height: 0;max-width: 0;overflow: hidden;text-align: left;background-color: #f0f8ff;}#sk-container-id-3 div.sk-toggleable__content pre {margin: 0.2em;color: black;border-radius: 0.25em;background-color: #f0f8ff;}#sk-container-id-3 input.sk-toggleable__control:checked~div.sk-toggleable__content {max-height: 200px;max-width: 100%;overflow: auto;}#sk-container-id-3 input.sk-toggleable__control:checked~label.sk-toggleable__label-arrow:before {content: \"▾\";}#sk-container-id-3 div.sk-estimator input.sk-toggleable__control:checked~label.sk-toggleable__label {background-color: #d4ebff;}#sk-container-id-3 div.sk-label input.sk-toggleable__control:checked~label.sk-toggleable__label {background-color: #d4ebff;}#sk-container-id-3 input.sk-hidden--visually {border: 0;clip: rect(1px 1px 1px 1px);clip: rect(1px, 1px, 1px, 1px);height: 1px;margin: -1px;overflow: hidden;padding: 0;position: absolute;width: 1px;}#sk-container-id-3 div.sk-estimator {font-family: monospace;background-color: #f0f8ff;border: 1px dotted black;border-radius: 0.25em;box-sizing: border-box;margin-bottom: 0.5em;}#sk-container-id-3 div.sk-estimator:hover {background-color: #d4ebff;}#sk-container-id-3 div.sk-parallel-item::after {content: \"\";width: 100%;border-bottom: 1px solid gray;flex-grow: 1;}#sk-container-id-3 div.sk-label:hover label.sk-toggleable__label {background-color: #d4ebff;}#sk-container-id-3 div.sk-serial::before {content: \"\";position: absolute;border-left: 1px solid gray;box-sizing: border-box;top: 0;bottom: 0;left: 50%;z-index: 0;}#sk-container-id-3 div.sk-serial {display: flex;flex-direction: column;align-items: center;background-color: white;padding-right: 0.2em;padding-left: 0.2em;position: relative;}#sk-container-id-3 div.sk-item {position: relative;z-index: 1;}#sk-container-id-3 div.sk-parallel {display: flex;align-items: stretch;justify-content: center;background-color: white;position: relative;}#sk-container-id-3 div.sk-item::before, #sk-container-id-3 div.sk-parallel-item::before {content: \"\";position: absolute;border-left: 1px solid gray;box-sizing: border-box;top: 0;bottom: 0;left: 50%;z-index: -1;}#sk-container-id-3 div.sk-parallel-item {display: flex;flex-direction: column;z-index: 1;position: relative;background-color: white;}#sk-container-id-3 div.sk-parallel-item:first-child::after {align-self: flex-end;width: 50%;}#sk-container-id-3 div.sk-parallel-item:last-child::after {align-self: flex-start;width: 50%;}#sk-container-id-3 div.sk-parallel-item:only-child::after {width: 0;}#sk-container-id-3 div.sk-dashed-wrapped {border: 1px dashed gray;margin: 0 0.4em 0.5em 0.4em;box-sizing: border-box;padding-bottom: 0.4em;background-color: white;}#sk-container-id-3 div.sk-label label {font-family: monospace;font-weight: bold;display: inline-block;line-height: 1.2em;}#sk-container-id-3 div.sk-label-container {text-align: center;}#sk-container-id-3 div.sk-container {/* jupyter's `normalize.less` sets `[hidden] { display: none; }` but bootstrap.min.css set `[hidden] { display: none !important; }` so we also need the `!important` here to be able to override the default hidden behavior on the sphinx rendered scikit-learn.org. See: https://github.com/scikit-learn/scikit-learn/issues/21755 */display: inline-block !important;position: relative;}#sk-container-id-3 div.sk-text-repr-fallback {display: none;}</style><div id=\"sk-container-id-3\" class=\"sk-top-container\"><div class=\"sk-text-repr-fallback\"><pre>GridSearchCV(cv=3, estimator=DecisionTreeClassifier(random_state=64),\n",
              "             param_grid={&#x27;criterion&#x27;: [&#x27;gini&#x27;, &#x27;entropy&#x27;],\n",
              "                         &#x27;max_depth&#x27;: [5, 6, 7, 8],\n",
              "                         &#x27;min_samples_leaf&#x27;: [6, 8, 10, 12, 14],\n",
              "                         &#x27;min_samples_split&#x27;: [16, 18, 20, 22],\n",
              "                         &#x27;splitter&#x27;: [&#x27;best&#x27;, &#x27;random&#x27;]})</pre><b>In a Jupyter environment, please rerun this cell to show the HTML representation or trust the notebook. <br />On GitHub, the HTML representation is unable to render, please try loading this page with nbviewer.org.</b></div><div class=\"sk-container\" hidden><div class=\"sk-item sk-dashed-wrapped\"><div class=\"sk-label-container\"><div class=\"sk-label sk-toggleable\"><input class=\"sk-toggleable__control sk-hidden--visually\" id=\"sk-estimator-id-5\" type=\"checkbox\" ><label for=\"sk-estimator-id-5\" class=\"sk-toggleable__label sk-toggleable__label-arrow\">GridSearchCV</label><div class=\"sk-toggleable__content\"><pre>GridSearchCV(cv=3, estimator=DecisionTreeClassifier(random_state=64),\n",
              "             param_grid={&#x27;criterion&#x27;: [&#x27;gini&#x27;, &#x27;entropy&#x27;],\n",
              "                         &#x27;max_depth&#x27;: [5, 6, 7, 8],\n",
              "                         &#x27;min_samples_leaf&#x27;: [6, 8, 10, 12, 14],\n",
              "                         &#x27;min_samples_split&#x27;: [16, 18, 20, 22],\n",
              "                         &#x27;splitter&#x27;: [&#x27;best&#x27;, &#x27;random&#x27;]})</pre></div></div></div><div class=\"sk-parallel\"><div class=\"sk-parallel-item\"><div class=\"sk-item\"><div class=\"sk-label-container\"><div class=\"sk-label sk-toggleable\"><input class=\"sk-toggleable__control sk-hidden--visually\" id=\"sk-estimator-id-6\" type=\"checkbox\" ><label for=\"sk-estimator-id-6\" class=\"sk-toggleable__label sk-toggleable__label-arrow\">estimator: DecisionTreeClassifier</label><div class=\"sk-toggleable__content\"><pre>DecisionTreeClassifier(random_state=64)</pre></div></div></div><div class=\"sk-serial\"><div class=\"sk-item\"><div class=\"sk-estimator sk-toggleable\"><input class=\"sk-toggleable__control sk-hidden--visually\" id=\"sk-estimator-id-7\" type=\"checkbox\" ><label for=\"sk-estimator-id-7\" class=\"sk-toggleable__label sk-toggleable__label-arrow\">DecisionTreeClassifier</label><div class=\"sk-toggleable__content\"><pre>DecisionTreeClassifier(random_state=64)</pre></div></div></div></div></div></div></div></div></div></div>"
            ]
          },
          "metadata": {},
          "execution_count": 19
        }
      ]
    },
    {
      "cell_type": "markdown",
      "source": [
        "## Q10 [5 marks] What is the depth of the best estimator?\n",
        "\n",
        "**Answer**\n",
        "\n",
        "V1: $7$\n",
        "\n",
        "V2: $7$\n",
        "\n",
        "V3: $7$\n",
        "\n",
        "V4: $7$\n",
        "\n",
        "V5: $8$\n"
      ],
      "metadata": {
        "id": "0Dz384Dm4m-D"
      }
    },
    {
      "cell_type": "code",
      "source": [
        "dt_gscv.best_estimator_.get_depth()"
      ],
      "metadata": {
        "colab": {
          "base_uri": "https://localhost:8080/"
        },
        "id": "kTtBrrNv4zAr",
        "outputId": "69d71c25-2f7b-48a1-853d-0b7048c20e77"
      },
      "execution_count": null,
      "outputs": [
        {
          "output_type": "execute_result",
          "data": {
            "text/plain": [
              "7"
            ]
          },
          "metadata": {},
          "execution_count": 20
        }
      ]
    },
    {
      "cell_type": "markdown",
      "source": [
        "## Q11 [5 marks] Find the number of leaves in the best estimator.\n",
        "\n",
        "**Answer**\n",
        "\n",
        "V1: 99\n",
        "\n",
        "V2: 101\n",
        "\n",
        "V3: 95\n",
        "\n",
        "V4: 103\n",
        "\n",
        "V5: 148"
      ],
      "metadata": {
        "id": "2DTgB8w55Vsa"
      }
    },
    {
      "cell_type": "code",
      "source": [
        "dt_gscv.best_estimator_.tree_.n_leaves"
      ],
      "metadata": {
        "colab": {
          "base_uri": "https://localhost:8080/"
        },
        "id": "tioX7kSH5qp_",
        "outputId": "26a61505-b0d6-4a8d-dd35-7ea38d7c1215"
      },
      "execution_count": null,
      "outputs": [
        {
          "output_type": "execute_result",
          "data": {
            "text/plain": [
              "101"
            ]
          },
          "metadata": {},
          "execution_count": 21
        }
      ]
    },
    {
      "cell_type": "markdown",
      "source": [
        "# **(Common Instructions for Q12, Q13 and Q14)**\n",
        "\n",
        "Suppose we train a decision tree classifier using the following two approaches:\n",
        "\n",
        "Approach 1. Do not grow the full size tree by setting the parameters as:\n",
        "\n",
        "  - max depth of the tree to be 10.\n",
        "  - minimum samples in a node to split to be 50.\n",
        "\n",
        "Approach 2. Use cost complexity pruning by setting the cost complexity parameter as 0.01.\n",
        "\n",
        "NOTE:\n",
        "- Use random state to be 64 in both approaches.\n",
        "- Use `entropy` criterion in both approaches.\n"
      ],
      "metadata": {
        "id": "gUUsYkh7Cgnl"
      }
    },
    {
      "cell_type": "code",
      "source": [
        "# DT_clf = DecisionTreeClassifier(criterion = 'entropy',  random_state = 64)\n",
        "# # DT_clf.fit(X_train, y_train)\n",
        "# # DT_clf.get_depth()\n",
        "\n",
        "# params = {'ccp_alpha': [0.01, 0.0001,  0.1, 1, 2, 3, 10, 15]}\n",
        "\n",
        "# # t=KFold(n_splits = 4, random_state = 64)\n",
        "# gscv = GridSearchCV(DT_clf,\n",
        "#                     params,\n",
        "#                     cv= 4,)\n",
        "\n",
        "# gscv.fit(X_train, y_train)\n",
        "# gscv.best_params_"
      ],
      "metadata": {
        "id": "x6AzhdUOEKyp"
      },
      "execution_count": null,
      "outputs": []
    },
    {
      "cell_type": "code",
      "source": [
        "DT_clf_1 = DecisionTreeClassifier(criterion = 'entropy', max_depth = 10, min_samples_split = 50, random_state = 64)\n",
        "DT_clf_1.fit(X_train, y_train)"
      ],
      "metadata": {
        "colab": {
          "base_uri": "https://localhost:8080/",
          "height": 91
        },
        "id": "cVHbG9s2E_Pv",
        "outputId": "22975ac8-c35a-4d47-e9f8-73953a2b6185"
      },
      "execution_count": null,
      "outputs": [
        {
          "output_type": "execute_result",
          "data": {
            "text/plain": [
              "DecisionTreeClassifier(criterion='entropy', max_depth=10, min_samples_split=50,\n",
              "                       random_state=64)"
            ],
            "text/html": [
              "<style>#sk-container-id-4 {color: black;background-color: white;}#sk-container-id-4 pre{padding: 0;}#sk-container-id-4 div.sk-toggleable {background-color: white;}#sk-container-id-4 label.sk-toggleable__label {cursor: pointer;display: block;width: 100%;margin-bottom: 0;padding: 0.3em;box-sizing: border-box;text-align: center;}#sk-container-id-4 label.sk-toggleable__label-arrow:before {content: \"▸\";float: left;margin-right: 0.25em;color: #696969;}#sk-container-id-4 label.sk-toggleable__label-arrow:hover:before {color: black;}#sk-container-id-4 div.sk-estimator:hover label.sk-toggleable__label-arrow:before {color: black;}#sk-container-id-4 div.sk-toggleable__content {max-height: 0;max-width: 0;overflow: hidden;text-align: left;background-color: #f0f8ff;}#sk-container-id-4 div.sk-toggleable__content pre {margin: 0.2em;color: black;border-radius: 0.25em;background-color: #f0f8ff;}#sk-container-id-4 input.sk-toggleable__control:checked~div.sk-toggleable__content {max-height: 200px;max-width: 100%;overflow: auto;}#sk-container-id-4 input.sk-toggleable__control:checked~label.sk-toggleable__label-arrow:before {content: \"▾\";}#sk-container-id-4 div.sk-estimator input.sk-toggleable__control:checked~label.sk-toggleable__label {background-color: #d4ebff;}#sk-container-id-4 div.sk-label input.sk-toggleable__control:checked~label.sk-toggleable__label {background-color: #d4ebff;}#sk-container-id-4 input.sk-hidden--visually {border: 0;clip: rect(1px 1px 1px 1px);clip: rect(1px, 1px, 1px, 1px);height: 1px;margin: -1px;overflow: hidden;padding: 0;position: absolute;width: 1px;}#sk-container-id-4 div.sk-estimator {font-family: monospace;background-color: #f0f8ff;border: 1px dotted black;border-radius: 0.25em;box-sizing: border-box;margin-bottom: 0.5em;}#sk-container-id-4 div.sk-estimator:hover {background-color: #d4ebff;}#sk-container-id-4 div.sk-parallel-item::after {content: \"\";width: 100%;border-bottom: 1px solid gray;flex-grow: 1;}#sk-container-id-4 div.sk-label:hover label.sk-toggleable__label {background-color: #d4ebff;}#sk-container-id-4 div.sk-serial::before {content: \"\";position: absolute;border-left: 1px solid gray;box-sizing: border-box;top: 0;bottom: 0;left: 50%;z-index: 0;}#sk-container-id-4 div.sk-serial {display: flex;flex-direction: column;align-items: center;background-color: white;padding-right: 0.2em;padding-left: 0.2em;position: relative;}#sk-container-id-4 div.sk-item {position: relative;z-index: 1;}#sk-container-id-4 div.sk-parallel {display: flex;align-items: stretch;justify-content: center;background-color: white;position: relative;}#sk-container-id-4 div.sk-item::before, #sk-container-id-4 div.sk-parallel-item::before {content: \"\";position: absolute;border-left: 1px solid gray;box-sizing: border-box;top: 0;bottom: 0;left: 50%;z-index: -1;}#sk-container-id-4 div.sk-parallel-item {display: flex;flex-direction: column;z-index: 1;position: relative;background-color: white;}#sk-container-id-4 div.sk-parallel-item:first-child::after {align-self: flex-end;width: 50%;}#sk-container-id-4 div.sk-parallel-item:last-child::after {align-self: flex-start;width: 50%;}#sk-container-id-4 div.sk-parallel-item:only-child::after {width: 0;}#sk-container-id-4 div.sk-dashed-wrapped {border: 1px dashed gray;margin: 0 0.4em 0.5em 0.4em;box-sizing: border-box;padding-bottom: 0.4em;background-color: white;}#sk-container-id-4 div.sk-label label {font-family: monospace;font-weight: bold;display: inline-block;line-height: 1.2em;}#sk-container-id-4 div.sk-label-container {text-align: center;}#sk-container-id-4 div.sk-container {/* jupyter's `normalize.less` sets `[hidden] { display: none; }` but bootstrap.min.css set `[hidden] { display: none !important; }` so we also need the `!important` here to be able to override the default hidden behavior on the sphinx rendered scikit-learn.org. See: https://github.com/scikit-learn/scikit-learn/issues/21755 */display: inline-block !important;position: relative;}#sk-container-id-4 div.sk-text-repr-fallback {display: none;}</style><div id=\"sk-container-id-4\" class=\"sk-top-container\"><div class=\"sk-text-repr-fallback\"><pre>DecisionTreeClassifier(criterion=&#x27;entropy&#x27;, max_depth=10, min_samples_split=50,\n",
              "                       random_state=64)</pre><b>In a Jupyter environment, please rerun this cell to show the HTML representation or trust the notebook. <br />On GitHub, the HTML representation is unable to render, please try loading this page with nbviewer.org.</b></div><div class=\"sk-container\" hidden><div class=\"sk-item\"><div class=\"sk-estimator sk-toggleable\"><input class=\"sk-toggleable__control sk-hidden--visually\" id=\"sk-estimator-id-8\" type=\"checkbox\" checked><label for=\"sk-estimator-id-8\" class=\"sk-toggleable__label sk-toggleable__label-arrow\">DecisionTreeClassifier</label><div class=\"sk-toggleable__content\"><pre>DecisionTreeClassifier(criterion=&#x27;entropy&#x27;, max_depth=10, min_samples_split=50,\n",
              "                       random_state=64)</pre></div></div></div></div></div>"
            ]
          },
          "metadata": {},
          "execution_count": 23
        }
      ]
    },
    {
      "cell_type": "code",
      "source": [
        "DT_clf_2 = DecisionTreeClassifier(criterion = 'entropy', ccp_alpha = 0.01, random_state = 64)\n",
        "DT_clf_2.fit(X_train, y_train)"
      ],
      "metadata": {
        "colab": {
          "base_uri": "https://localhost:8080/",
          "height": 74
        },
        "id": "zVwICCayGAZx",
        "outputId": "cafb15d3-bb2c-4e70-f31b-17264738d38a"
      },
      "execution_count": null,
      "outputs": [
        {
          "output_type": "execute_result",
          "data": {
            "text/plain": [
              "DecisionTreeClassifier(ccp_alpha=0.01, criterion='entropy', random_state=64)"
            ],
            "text/html": [
              "<style>#sk-container-id-5 {color: black;background-color: white;}#sk-container-id-5 pre{padding: 0;}#sk-container-id-5 div.sk-toggleable {background-color: white;}#sk-container-id-5 label.sk-toggleable__label {cursor: pointer;display: block;width: 100%;margin-bottom: 0;padding: 0.3em;box-sizing: border-box;text-align: center;}#sk-container-id-5 label.sk-toggleable__label-arrow:before {content: \"▸\";float: left;margin-right: 0.25em;color: #696969;}#sk-container-id-5 label.sk-toggleable__label-arrow:hover:before {color: black;}#sk-container-id-5 div.sk-estimator:hover label.sk-toggleable__label-arrow:before {color: black;}#sk-container-id-5 div.sk-toggleable__content {max-height: 0;max-width: 0;overflow: hidden;text-align: left;background-color: #f0f8ff;}#sk-container-id-5 div.sk-toggleable__content pre {margin: 0.2em;color: black;border-radius: 0.25em;background-color: #f0f8ff;}#sk-container-id-5 input.sk-toggleable__control:checked~div.sk-toggleable__content {max-height: 200px;max-width: 100%;overflow: auto;}#sk-container-id-5 input.sk-toggleable__control:checked~label.sk-toggleable__label-arrow:before {content: \"▾\";}#sk-container-id-5 div.sk-estimator input.sk-toggleable__control:checked~label.sk-toggleable__label {background-color: #d4ebff;}#sk-container-id-5 div.sk-label input.sk-toggleable__control:checked~label.sk-toggleable__label {background-color: #d4ebff;}#sk-container-id-5 input.sk-hidden--visually {border: 0;clip: rect(1px 1px 1px 1px);clip: rect(1px, 1px, 1px, 1px);height: 1px;margin: -1px;overflow: hidden;padding: 0;position: absolute;width: 1px;}#sk-container-id-5 div.sk-estimator {font-family: monospace;background-color: #f0f8ff;border: 1px dotted black;border-radius: 0.25em;box-sizing: border-box;margin-bottom: 0.5em;}#sk-container-id-5 div.sk-estimator:hover {background-color: #d4ebff;}#sk-container-id-5 div.sk-parallel-item::after {content: \"\";width: 100%;border-bottom: 1px solid gray;flex-grow: 1;}#sk-container-id-5 div.sk-label:hover label.sk-toggleable__label {background-color: #d4ebff;}#sk-container-id-5 div.sk-serial::before {content: \"\";position: absolute;border-left: 1px solid gray;box-sizing: border-box;top: 0;bottom: 0;left: 50%;z-index: 0;}#sk-container-id-5 div.sk-serial {display: flex;flex-direction: column;align-items: center;background-color: white;padding-right: 0.2em;padding-left: 0.2em;position: relative;}#sk-container-id-5 div.sk-item {position: relative;z-index: 1;}#sk-container-id-5 div.sk-parallel {display: flex;align-items: stretch;justify-content: center;background-color: white;position: relative;}#sk-container-id-5 div.sk-item::before, #sk-container-id-5 div.sk-parallel-item::before {content: \"\";position: absolute;border-left: 1px solid gray;box-sizing: border-box;top: 0;bottom: 0;left: 50%;z-index: -1;}#sk-container-id-5 div.sk-parallel-item {display: flex;flex-direction: column;z-index: 1;position: relative;background-color: white;}#sk-container-id-5 div.sk-parallel-item:first-child::after {align-self: flex-end;width: 50%;}#sk-container-id-5 div.sk-parallel-item:last-child::after {align-self: flex-start;width: 50%;}#sk-container-id-5 div.sk-parallel-item:only-child::after {width: 0;}#sk-container-id-5 div.sk-dashed-wrapped {border: 1px dashed gray;margin: 0 0.4em 0.5em 0.4em;box-sizing: border-box;padding-bottom: 0.4em;background-color: white;}#sk-container-id-5 div.sk-label label {font-family: monospace;font-weight: bold;display: inline-block;line-height: 1.2em;}#sk-container-id-5 div.sk-label-container {text-align: center;}#sk-container-id-5 div.sk-container {/* jupyter's `normalize.less` sets `[hidden] { display: none; }` but bootstrap.min.css set `[hidden] { display: none !important; }` so we also need the `!important` here to be able to override the default hidden behavior on the sphinx rendered scikit-learn.org. See: https://github.com/scikit-learn/scikit-learn/issues/21755 */display: inline-block !important;position: relative;}#sk-container-id-5 div.sk-text-repr-fallback {display: none;}</style><div id=\"sk-container-id-5\" class=\"sk-top-container\"><div class=\"sk-text-repr-fallback\"><pre>DecisionTreeClassifier(ccp_alpha=0.01, criterion=&#x27;entropy&#x27;, random_state=64)</pre><b>In a Jupyter environment, please rerun this cell to show the HTML representation or trust the notebook. <br />On GitHub, the HTML representation is unable to render, please try loading this page with nbviewer.org.</b></div><div class=\"sk-container\" hidden><div class=\"sk-item\"><div class=\"sk-estimator sk-toggleable\"><input class=\"sk-toggleable__control sk-hidden--visually\" id=\"sk-estimator-id-9\" type=\"checkbox\" checked><label for=\"sk-estimator-id-9\" class=\"sk-toggleable__label sk-toggleable__label-arrow\">DecisionTreeClassifier</label><div class=\"sk-toggleable__content\"><pre>DecisionTreeClassifier(ccp_alpha=0.01, criterion=&#x27;entropy&#x27;, random_state=64)</pre></div></div></div></div></div>"
            ]
          },
          "metadata": {},
          "execution_count": 24
        }
      ]
    },
    {
      "cell_type": "code",
      "source": [
        "print(DT_clf_1.score(X_test, y_test))\n",
        "print(DT_clf_2.score(X_test, y_test))"
      ],
      "metadata": {
        "colab": {
          "base_uri": "https://localhost:8080/"
        },
        "id": "i4Fep4hVOZ-T",
        "outputId": "585d39f6-bab5-4724-d977-f77cf47f217d"
      },
      "execution_count": null,
      "outputs": [
        {
          "output_type": "stream",
          "name": "stdout",
          "text": [
            "0.8364\n",
            "0.8052\n"
          ]
        }
      ]
    },
    {
      "cell_type": "markdown",
      "source": [
        "##Q12 [3 marks] Which approach gives the better accuarcy on the test dataset?\n",
        "\n",
        "**Options**\n",
        "\n",
        "A) Approach 1\n",
        "\n",
        "B) Approach 2\n",
        "\n",
        "**Answer:**\n",
        "\n",
        "* V1 - A\n",
        "* V2 - A\n",
        "* V3 - A\n",
        "* V4 - A\n",
        "* V5 - A\n"
      ],
      "metadata": {
        "id": "KR5zmMNMN9NZ"
      }
    },
    {
      "cell_type": "markdown",
      "source": [
        "##Q13 [5 marks] What is the difference (absolute difference) in True Positives (TP) between these two approaches on test datasets?\n",
        "\n",
        "**Answer**\n",
        "\n",
        "V1: $68$\n",
        "\n",
        "V2: $73$\n",
        "\n",
        "V3: $1$\n",
        "\n",
        "V4: $90$\n",
        "\n",
        "V5: $32$"
      ],
      "metadata": {
        "id": "z_nigk5-M0mq"
      }
    },
    {
      "cell_type": "code",
      "source": [
        "y1_pred = DT_clf_1.predict(X_test)\n",
        "y2_pred = DT_clf_2.predict(X_test)\n",
        "\n",
        "cm_1 = confusion_matrix(y_test, y1_pred)\n",
        "cm_2 = confusion_matrix(y_test, y2_pred)\n",
        "\n",
        "print(abs(cm_1[1][1]- cm_2[1][1]))"
      ],
      "metadata": {
        "colab": {
          "base_uri": "https://localhost:8080/"
        },
        "id": "wi-CCGu4GGgl",
        "outputId": "1f62d1ba-0896-41e7-c80c-36151cb0e8e9"
      },
      "execution_count": null,
      "outputs": [
        {
          "output_type": "stream",
          "name": "stdout",
          "text": [
            "[[ 780  243]\n",
            " [ 166 1311]]\n",
            "[[ 775  248]\n",
            " [ 239 1238]]\n"
          ]
        }
      ]
    },
    {
      "cell_type": "markdown",
      "source": [
        "## Q14 [5 marks] Find the sum of number of nodes of both trees (trees obtained using approach 1 and appoach 2).\n",
        "\n",
        "V1: $386$\n",
        "\n",
        "V2: $358$\n",
        "\n",
        "V3: $350$\n",
        "\n",
        "V4: $362$\n",
        "\n",
        "V5: $346$"
      ],
      "metadata": {
        "id": "enePtEENP0MT"
      }
    },
    {
      "cell_type": "code",
      "source": [
        "DT_clf_1.tree_.node_count + DT_clf_2.tree_.node_count"
      ],
      "metadata": {
        "colab": {
          "base_uri": "https://localhost:8080/"
        },
        "id": "Lf2zccdBQcaL",
        "outputId": "a29aa1df-265b-4476-f8d1-a6db5ab25fe5"
      },
      "execution_count": null,
      "outputs": [
        {
          "output_type": "execute_result",
          "data": {
            "text/plain": [
              "358"
            ]
          },
          "metadata": {},
          "execution_count": 27
        }
      ]
    },
    {
      "cell_type": "markdown",
      "source": [
        "# **(Common Instructions for Q15, and Q16)**\n",
        "##Take a `RandomForestClassifier()` model with following hyperparameter values and tune it using GridsearchCV.\n",
        "\n",
        "- Use n_estimators as [10,20,30]\n",
        "- Use max_features as ['sqrt', 'log2']\n",
        "- Use min_impurity_decrease as [0.001, 0.01, 0.1]\n",
        "- Take cv value= 5 and random state = 64\n",
        "\n",
        "\n"
      ],
      "metadata": {
        "id": "wD9N8jVO92lx"
      }
    },
    {
      "cell_type": "code",
      "source": [
        "\n",
        "param_grid = {\"n_estimators\":[10, 20, 30], 'max_features': ['sqrt', 'log2'], 'min_impurity_decrease': [0.001, 0.01, 0.1]}\n",
        "\n",
        "rf_gs = GridSearchCV(RandomForestClassifier(random_state = 64),\n",
        "                     param_grid = param_grid, cv = 5)\n",
        "rf_gs.fit(X_train,y_train)\n",
        "\n",
        "rf_gs.best_params_"
      ],
      "metadata": {
        "colab": {
          "base_uri": "https://localhost:8080/"
        },
        "id": "AC3G7GrZ-9n5",
        "outputId": "436a3e9d-0127-4e66-adea-fc29021edcc5"
      },
      "execution_count": null,
      "outputs": [
        {
          "output_type": "execute_result",
          "data": {
            "text/plain": [
              "{'max_features': 'sqrt', 'min_impurity_decrease': 0.001, 'n_estimators': 30}"
            ]
          },
          "metadata": {},
          "execution_count": 28
        }
      ]
    },
    {
      "cell_type": "markdown",
      "source": [
        "## Q15[5 marks] [NAT] Calculate the total number of misclassified samples by the best estimator for the test data.\n",
        "\n",
        "Answer:\n",
        "\n",
        "V1: 346   \n",
        "\n",
        "V2: 393  \n",
        "\n",
        "V3: 359  \n",
        "  \n",
        "V4: 332  \n",
        "   \n",
        "V5: 357"
      ],
      "metadata": {
        "id": "Gb_tOmZ2_9rt"
      }
    },
    {
      "cell_type": "code",
      "source": [
        "cm = confusion_matrix(y_test, rf_gs.best_estimator_.predict(X_test))\n",
        "cm[0][1] + cm[1][0]"
      ],
      "metadata": {
        "colab": {
          "base_uri": "https://localhost:8080/"
        },
        "id": "kHuTSfo8AJ8Q",
        "outputId": "b5e8f368-c3a4-4eb4-f333-082d88231535"
      },
      "execution_count": null,
      "outputs": [
        {
          "output_type": "execute_result",
          "data": {
            "text/plain": [
              "393"
            ]
          },
          "metadata": {},
          "execution_count": 29
        }
      ]
    },
    {
      "cell_type": "markdown",
      "source": [
        "## Q16 [5 marks] Find the value of min_impurity_decrease of the best estimator?\n",
        "\n",
        "**Answer**\n",
        "\n",
        "V1: 0.001\n",
        "\n",
        "V2: 0.001\n",
        "\n",
        "V3: 0.001\n",
        "\n",
        "V4: 0.001\n",
        "\n",
        "V5: 0.001"
      ],
      "metadata": {
        "id": "ZGlrnp4VHpVy"
      }
    },
    {
      "cell_type": "markdown",
      "source": [
        "# **(Common Instructions for Q17,Q18)**\n",
        "##Take an adaboost model with following hyperparameter values and tune it using GridsearchCV.\n",
        "\n",
        "- Use n_estimators as [20,30, 50]\n",
        "- Use learning_rate as [0.1, 0.5,1,2]\n",
        "- Take cv value= 5 and random state = 64\n",
        "\n",
        "\n"
      ],
      "metadata": {
        "id": "4kciC1x1OPr9"
      }
    },
    {
      "cell_type": "code",
      "source": [
        "params = {'n_estimators':[20,30,50],\n",
        "          'learning_rate':[0.1,0.5,1,2]}\n",
        "ad_clf = AdaBoostClassifier(random_state = 64)\n",
        "ad_gscv = GridSearchCV(ad_clf,\n",
        "                       params,\n",
        "                       cv=5)\n",
        "\n",
        "ad_gscv.fit(X_train, y_train)"
      ],
      "metadata": {
        "colab": {
          "base_uri": "https://localhost:8080/",
          "height": 116
        },
        "id": "5pi-1YOXdJgX",
        "outputId": "cbd4f32c-f1fb-420e-9163-0657c9489342"
      },
      "execution_count": null,
      "outputs": [
        {
          "output_type": "execute_result",
          "data": {
            "text/plain": [
              "GridSearchCV(cv=5, estimator=AdaBoostClassifier(random_state=64),\n",
              "             param_grid={'learning_rate': [0.1, 0.5, 1, 2],\n",
              "                         'n_estimators': [20, 30, 50]})"
            ],
            "text/html": [
              "<style>#sk-container-id-6 {color: black;background-color: white;}#sk-container-id-6 pre{padding: 0;}#sk-container-id-6 div.sk-toggleable {background-color: white;}#sk-container-id-6 label.sk-toggleable__label {cursor: pointer;display: block;width: 100%;margin-bottom: 0;padding: 0.3em;box-sizing: border-box;text-align: center;}#sk-container-id-6 label.sk-toggleable__label-arrow:before {content: \"▸\";float: left;margin-right: 0.25em;color: #696969;}#sk-container-id-6 label.sk-toggleable__label-arrow:hover:before {color: black;}#sk-container-id-6 div.sk-estimator:hover label.sk-toggleable__label-arrow:before {color: black;}#sk-container-id-6 div.sk-toggleable__content {max-height: 0;max-width: 0;overflow: hidden;text-align: left;background-color: #f0f8ff;}#sk-container-id-6 div.sk-toggleable__content pre {margin: 0.2em;color: black;border-radius: 0.25em;background-color: #f0f8ff;}#sk-container-id-6 input.sk-toggleable__control:checked~div.sk-toggleable__content {max-height: 200px;max-width: 100%;overflow: auto;}#sk-container-id-6 input.sk-toggleable__control:checked~label.sk-toggleable__label-arrow:before {content: \"▾\";}#sk-container-id-6 div.sk-estimator input.sk-toggleable__control:checked~label.sk-toggleable__label {background-color: #d4ebff;}#sk-container-id-6 div.sk-label input.sk-toggleable__control:checked~label.sk-toggleable__label {background-color: #d4ebff;}#sk-container-id-6 input.sk-hidden--visually {border: 0;clip: rect(1px 1px 1px 1px);clip: rect(1px, 1px, 1px, 1px);height: 1px;margin: -1px;overflow: hidden;padding: 0;position: absolute;width: 1px;}#sk-container-id-6 div.sk-estimator {font-family: monospace;background-color: #f0f8ff;border: 1px dotted black;border-radius: 0.25em;box-sizing: border-box;margin-bottom: 0.5em;}#sk-container-id-6 div.sk-estimator:hover {background-color: #d4ebff;}#sk-container-id-6 div.sk-parallel-item::after {content: \"\";width: 100%;border-bottom: 1px solid gray;flex-grow: 1;}#sk-container-id-6 div.sk-label:hover label.sk-toggleable__label {background-color: #d4ebff;}#sk-container-id-6 div.sk-serial::before {content: \"\";position: absolute;border-left: 1px solid gray;box-sizing: border-box;top: 0;bottom: 0;left: 50%;z-index: 0;}#sk-container-id-6 div.sk-serial {display: flex;flex-direction: column;align-items: center;background-color: white;padding-right: 0.2em;padding-left: 0.2em;position: relative;}#sk-container-id-6 div.sk-item {position: relative;z-index: 1;}#sk-container-id-6 div.sk-parallel {display: flex;align-items: stretch;justify-content: center;background-color: white;position: relative;}#sk-container-id-6 div.sk-item::before, #sk-container-id-6 div.sk-parallel-item::before {content: \"\";position: absolute;border-left: 1px solid gray;box-sizing: border-box;top: 0;bottom: 0;left: 50%;z-index: -1;}#sk-container-id-6 div.sk-parallel-item {display: flex;flex-direction: column;z-index: 1;position: relative;background-color: white;}#sk-container-id-6 div.sk-parallel-item:first-child::after {align-self: flex-end;width: 50%;}#sk-container-id-6 div.sk-parallel-item:last-child::after {align-self: flex-start;width: 50%;}#sk-container-id-6 div.sk-parallel-item:only-child::after {width: 0;}#sk-container-id-6 div.sk-dashed-wrapped {border: 1px dashed gray;margin: 0 0.4em 0.5em 0.4em;box-sizing: border-box;padding-bottom: 0.4em;background-color: white;}#sk-container-id-6 div.sk-label label {font-family: monospace;font-weight: bold;display: inline-block;line-height: 1.2em;}#sk-container-id-6 div.sk-label-container {text-align: center;}#sk-container-id-6 div.sk-container {/* jupyter's `normalize.less` sets `[hidden] { display: none; }` but bootstrap.min.css set `[hidden] { display: none !important; }` so we also need the `!important` here to be able to override the default hidden behavior on the sphinx rendered scikit-learn.org. See: https://github.com/scikit-learn/scikit-learn/issues/21755 */display: inline-block !important;position: relative;}#sk-container-id-6 div.sk-text-repr-fallback {display: none;}</style><div id=\"sk-container-id-6\" class=\"sk-top-container\"><div class=\"sk-text-repr-fallback\"><pre>GridSearchCV(cv=5, estimator=AdaBoostClassifier(random_state=64),\n",
              "             param_grid={&#x27;learning_rate&#x27;: [0.1, 0.5, 1, 2],\n",
              "                         &#x27;n_estimators&#x27;: [20, 30, 50]})</pre><b>In a Jupyter environment, please rerun this cell to show the HTML representation or trust the notebook. <br />On GitHub, the HTML representation is unable to render, please try loading this page with nbviewer.org.</b></div><div class=\"sk-container\" hidden><div class=\"sk-item sk-dashed-wrapped\"><div class=\"sk-label-container\"><div class=\"sk-label sk-toggleable\"><input class=\"sk-toggleable__control sk-hidden--visually\" id=\"sk-estimator-id-10\" type=\"checkbox\" ><label for=\"sk-estimator-id-10\" class=\"sk-toggleable__label sk-toggleable__label-arrow\">GridSearchCV</label><div class=\"sk-toggleable__content\"><pre>GridSearchCV(cv=5, estimator=AdaBoostClassifier(random_state=64),\n",
              "             param_grid={&#x27;learning_rate&#x27;: [0.1, 0.5, 1, 2],\n",
              "                         &#x27;n_estimators&#x27;: [20, 30, 50]})</pre></div></div></div><div class=\"sk-parallel\"><div class=\"sk-parallel-item\"><div class=\"sk-item\"><div class=\"sk-label-container\"><div class=\"sk-label sk-toggleable\"><input class=\"sk-toggleable__control sk-hidden--visually\" id=\"sk-estimator-id-11\" type=\"checkbox\" ><label for=\"sk-estimator-id-11\" class=\"sk-toggleable__label sk-toggleable__label-arrow\">estimator: AdaBoostClassifier</label><div class=\"sk-toggleable__content\"><pre>AdaBoostClassifier(random_state=64)</pre></div></div></div><div class=\"sk-serial\"><div class=\"sk-item\"><div class=\"sk-estimator sk-toggleable\"><input class=\"sk-toggleable__control sk-hidden--visually\" id=\"sk-estimator-id-12\" type=\"checkbox\" ><label for=\"sk-estimator-id-12\" class=\"sk-toggleable__label sk-toggleable__label-arrow\">AdaBoostClassifier</label><div class=\"sk-toggleable__content\"><pre>AdaBoostClassifier(random_state=64)</pre></div></div></div></div></div></div></div></div></div></div>"
            ]
          },
          "metadata": {},
          "execution_count": 30
        }
      ]
    },
    {
      "cell_type": "markdown",
      "source": [
        "## Q17 [5 marks] Find the accuracy on the test dataset using the best estimator.\n",
        "\n",
        "**Answer**\n",
        "\n",
        "V1: $0.88$ Range: [0.84, 0.92]\n",
        "\n",
        "V2: $0.87$ Range: [0.83, 0.91]\n",
        "\n",
        "V3: $0.88$ Range: [0.84, 0.92]\n",
        "\n",
        "V4: $0.88$ Range: [0.84, 0.92]\n",
        "\n",
        "V5: $0.87$ Range: [0.83, 0.91]"
      ],
      "metadata": {
        "id": "aLn1aAgydrse"
      }
    },
    {
      "cell_type": "code",
      "source": [
        "ad_gscv.best_estimator_.score(X_test, y_test)"
      ],
      "metadata": {
        "colab": {
          "base_uri": "https://localhost:8080/"
        },
        "id": "vl3aup-ueWKf",
        "outputId": "c5e44ca0-8f45-4609-9c5a-984725b27c16"
      },
      "execution_count": null,
      "outputs": [
        {
          "output_type": "execute_result",
          "data": {
            "text/plain": [
              "0.8736"
            ]
          },
          "metadata": {},
          "execution_count": 31
        }
      ]
    },
    {
      "cell_type": "markdown",
      "source": [
        "## Q18 [5 marks] How many class zero examples in the test dataset are correctly classified by the best estimator?\n",
        "\n",
        "**Answer**\n",
        "\n",
        "V1: 847\n",
        "\n",
        "V2: 837\n",
        "\n",
        "V3: 846\n",
        "\n",
        "V4: 843\n",
        "\n",
        "V5: 840"
      ],
      "metadata": {
        "id": "VM64cd76e5Wm"
      }
    },
    {
      "cell_type": "code",
      "source": [
        "confusion_matrix(y_test, ad_gscv.best_estimator_.predict(X_test))[0][0]"
      ],
      "metadata": {
        "colab": {
          "base_uri": "https://localhost:8080/"
        },
        "id": "APZ6Cfr9gJb1",
        "outputId": "6c5ef63b-866e-4f81-ea12-e1b262eb35cf"
      },
      "execution_count": null,
      "outputs": [
        {
          "output_type": "execute_result",
          "data": {
            "text/plain": [
              "837"
            ]
          },
          "metadata": {},
          "execution_count": 32
        }
      ]
    },
    {
      "cell_type": "markdown",
      "source": [
        "\n",
        "##Q19 [5 marks] Apply `GridSearchCV` using the support vector machine (SVM) classifier on the training dataset `X_train, y_train` and calculate the best value of `C` and `kernel` from the values below.\n",
        "\n",
        "####use below hyperparameter values to tune the model\n",
        "* `kernel':['linear', 'rbf'],\n",
        "* 'C':[ 1, 10]`)\n",
        "* Take cv =3 and random state to be 64\n",
        "\n",
        "Which of the following options represent the best parameters?\n",
        "\n",
        "options:\n",
        "\n",
        "A. {'C': 1, 'kernel': 'rbf'}\n",
        "\n",
        "B. {'C': 10, 'kernel': 'rbf'}\n",
        "\n",
        "C. {'C':  1, 'kernel': 'linear'}\n",
        "\n",
        "D. {'C': 10, 'kernel': 'linear'}\n",
        "\n",
        "\n",
        "Answer:\n",
        "\n",
        "C For all versions\n"
      ],
      "metadata": {
        "id": "DtjdNekbg79f"
      }
    },
    {
      "cell_type": "code",
      "source": [
        "param_grid = {'kernel':('linear', 'rbf'), 'C':[1, 10]}\n",
        "\n",
        "svc = SVC(random_state=64)\n",
        "\n",
        "gs = GridSearchCV(svc, param_grid, cv = 3)\n",
        "\n",
        "gs.fit(X_train, y_train)\n",
        "\n",
        "gs.best_params_"
      ],
      "metadata": {
        "colab": {
          "base_uri": "https://localhost:8080/"
        },
        "id": "oRRpAtfBRwBC",
        "outputId": "2f928dde-7630-4ef2-a6a1-0b8e1975ae7c"
      },
      "execution_count": null,
      "outputs": [
        {
          "output_type": "execute_result",
          "data": {
            "text/plain": [
              "{'C': 1, 'kernel': 'linear'}"
            ]
          },
          "metadata": {},
          "execution_count": 33
        }
      ]
    }
  ]
}