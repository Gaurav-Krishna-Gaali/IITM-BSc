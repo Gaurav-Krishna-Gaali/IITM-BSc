{
 "cells": [
  {
   "cell_type": "code",
   "execution_count": 1,
   "metadata": {},
   "outputs": [
    {
     "name": "stdout",
     "output_type": "stream",
     "text": [
      "Hello\n"
     ]
    }
   ],
   "source": [
    "print('Hello')"
   ]
  },
  {
   "cell_type": "code",
   "execution_count": 2,
   "metadata": {},
   "outputs": [],
   "source": [
    "class create_stack:\n",
    "    def __init__(self):\n",
    "        self.stack = []\n",
    "\n",
    "    def push(self,d):\n",
    "        self.stack.append(d)\n",
    "\n",
    "    def pop(self):\n",
    "        t=self.stack[-1]\n",
    "        self.stack = self.stack[:-1]\n",
    "        return t\n"
   ]
  },
  {
   "cell_type": "code",
   "execution_count": 5,
   "metadata": {},
   "outputs": [],
   "source": [
    "def EvaluateExpression(exp):\n",
    "    opt = ['+','-','*','/','**']\n",
    "    stk = create_stack()\n",
    "    L=exp.split('')\n",
    "\n",
    "    for i in L:\n",
    "        if i not in opt:\n",
    "            stk.push(i)\n",
    "        else:\n",
    "            b=stk.pop()\n",
    "            a=stk.pop()\n",
    "\n",
    "            res = eval(a+i+b)\n",
    "\n",
    "            stk.push(str(res))\n",
    "        return stk.pop()\n"
   ]
  },
  {
   "cell_type": "code",
   "execution_count": null,
   "metadata": {},
   "outputs": [],
   "source": [
    "EvaluateExpression([2, 3 ,1])\n",
    "\n"
   ]
  },
  {
   "cell_type": "code",
   "execution_count": 11,
   "metadata": {},
   "outputs": [],
   "source": [
    "def reverse(root):\n",
    "    if root.isEmpty():\n",
    "        return root\n",
    "\n",
    "    temp = root\n",
    "    prev = None\n",
    "\n",
    "    while(temp):\n",
    "        next, temp.next = temp.next, prev \n",
    "        prev, temp = temp ,next\n",
    "\n",
    "    return prev"
   ]
  },
  {
   "cell_type": "code",
   "execution_count": null,
   "metadata": {},
   "outputs": [],
   "source": [
    "reverse(12)"
   ]
  },
  {
   "cell_type": "code",
   "execution_count": 13,
   "metadata": {},
   "outputs": [
    {
     "name": "stdout",
     "output_type": "stream",
     "text": [
      "[False, False]\n"
     ]
    }
   ],
   "source": [
    "n=2\n",
    "res = [False for i in range(n)]\n",
    "print(res)"
   ]
  },
  {
   "cell_type": "code",
   "execution_count": 17,
   "metadata": {},
   "outputs": [],
   "source": [
    "from collections import deque\n",
    "class myQueue:\n",
    "    def __init__(self):\n",
    "        self.Q = deque()\n",
    "\n",
    "    def deQueues(self):\n",
    "        return self.Q.popleft()\n",
    "    \n",
    "    def enQueue(self, x):\n",
    "        return self.Q.append(x)\n",
    "\n",
    "    def isEmpty(self):\n",
    "        return False if self.Q.empty() else True\n",
    "\n",
    "\n",
    "def findConnectionLevel(n, Gmat, Px, Py):\n",
    "    q = myQueue()\n",
    "\n",
    "    visited = [False for i in range(n)]\n",
    "    q.enQueue(Px)\n",
    "    q.enQueue(-1) \n",
    "\n",
    "    visited[Px]  = True\n",
    "\n",
    "    level  =1\n",
    "\n",
    "    while not q.isEmpty():\n",
    "        v = q.deQueues()\n",
    "\n",
    "        if v == -1:\n",
    "            level +=1\n",
    "            if (not q.isEmpty()):\n",
    "                q.enQueue(-1)\n",
    "                continue\n",
    "\n",
    "            for i in range(n):\n",
    "                if( i==Px and Gmat[v][i] == 1):\n",
    "                    return level\n",
    "                \n",
    "                if (Gmat[v][i] and not visited[i]):\n",
    "                    q.enQueue(i)\n",
    "                    visited[i] = True\n",
    "            return 0\n",
    "            \n"
   ]
  },
  {
   "cell_type": "code",
   "execution_count": null,
   "metadata": {},
   "outputs": [],
   "source": [
    "def neighbours(Amat,v):\n",
    "    (rows,cols) = (len(Amat),len(Amat[0]))\n",
    "    nbrs = []\n",
    "    for i in range(cols):\n",
    "        if Amat[i][v] == 1:\n",
    "            nbrs.append(i)\n",
    "    return nbrs\n",
    "    \n",
    "def findConnectionLevel(v,Amat, X, Y):\n",
    "    level = {}\n",
    "    (rows,cols) = (len(Amat),len(Amat[0]))\n",
    "    for i in range(rows):\n",
    "        level[i] = -1\n",
    "    q = []\n",
    "    q.append(X)\n",
    "    level[X] = 0\n",
    "    \n",
    "    while q != []:\n",
    "        j = q.pop()\n",
    "        for k in neighbours(Amat,j):\n",
    "            \n",
    "            if k == Y:\n",
    "                level[k] = level[j]+1\n",
    "                break\n",
    "            \n",
    "            if level[k] == -1:\n",
    "                level[k] = level[j]+1\n",
    "                q.append(k)\n",
    "            \n",
    "    \n",
    "    if level[Y] >= 0:\n",
    "        return level[Y]\n",
    "    else:\n",
    "        return 0\n",
    "vertices = int(input())\n",
    "Amat = []\n",
    "for i in range(vertices):\n",
    "  row = [int(item) for item in input().split(\" \")]\n",
    "  Amat.append(row)\n",
    "personX = int(input())\n",
    "personY = int(input())\n",
    "print(findConnectionLevel(vertices, Amat, personX, personY))"
   ]
  },
  {
   "cell_type": "code",
   "execution_count": 20,
   "metadata": {},
   "outputs": [
    {
     "name": "stdout",
     "output_type": "stream",
     "text": [
      "[]\n"
     ]
    }
   ],
   "source": [
    "a = list()\n",
    "\n",
    "print(a)\n"
   ]
  },
  {
   "cell_type": "code",
   "execution_count": 21,
   "metadata": {},
   "outputs": [
    {
     "name": "stdout",
     "output_type": "stream",
     "text": [
      "{}\n"
     ]
    }
   ],
   "source": [
    "b = dict()\n",
    "\n",
    "print(b)\n"
   ]
  },
  {
   "cell_type": "code",
   "execution_count": null,
   "metadata": {},
   "outputs": [],
   "source": [
    "def FiberLink(distance_map):\n",
    "    (edges, components, t, l, s) = (list() , dict(), list(distance_map.keys()), 0)\n",
    "    for u in l: \n",
    "        edges.extend((d,u,v) for (v,d) in distance_map[u])\n",
    "        components[u] = u\n",
    "    edges.sort()\n",
    "\n",
    "    for [d,u,v] in edges:\n",
    "        if (components[u] != components[v]):\n",
    "            t.append((u,v))\n",
    "            c = components[u]\n",
    "            s+=d\n",
    "\n",
    "            for i in l: \n",
    "                if components[i] == c:\n",
    "                    components[i] = components[v]\n",
    "    return s\n",
    "\n",
    "size = int(input())\n",
    "edges = eval(input())\n",
    "WL = {}\n",
    "for i in range(size):\n",
    "    WL[i] = []\n",
    "for ed in edges:\n",
    "    WL[ed[0]].append((ed[1],ed[2]))\n",
    "    WL[ed[1]].append((ed[0],ed[2]))\n",
    "print(FiberLink(WL))\n"
   ]
  },
  {
   "cell_type": "code",
   "execution_count": 27,
   "metadata": {},
   "outputs": [
    {
     "name": "stdout",
     "output_type": "stream",
     "text": [
      "10\n"
     ]
    }
   ],
   "source": [
    "def kruskal(WList):\n",
    "    (edges,component,TE)=([],{},[])\n",
    "    for u in WList.keys():\n",
    "        edges.extend([(d,u,v) for (v,d) in WList[u]])\n",
    "        component[u] = u\n",
    "    edges.sort()\n",
    "    for (d,u,v) in edges:\n",
    "        if component[u] != component[v]:\n",
    "            TE.append((u,v))\n",
    "            c = component[u]\n",
    "        for w in WList.keys():\n",
    "            if component[w] == c:\n",
    "                component[w] = component[v]\n",
    "    return(TE)\n",
    "\n",
    "def FiberLink(distance_map):\n",
    "    R = kruskal(distance_map)\n",
    "    S = 0\n",
    "    for e in R:\n",
    "        for ed in distance_map[e[0]]:\n",
    "            if ed[0]==e[1]:\n",
    "                S += ed[1]\n",
    "    return S\n",
    "size = int(input())\n",
    "edges = eval(input())\n",
    "WL = {}\n",
    "for i in range(size):\n",
    "    WL[i] = []\n",
    "for ed in edges:\n",
    "    WL[ed[0]].append((ed[1],ed[2]))\n",
    "    WL[ed[1]].append((ed[0],ed[2]))\n",
    "print(FiberLink(WL))"
   ]
  },
  {
   "cell_type": "code",
   "execution_count": 26,
   "metadata": {},
   "outputs": [
    {
     "name": "stdout",
     "output_type": "stream",
     "text": [
      "{0: 2}\n"
     ]
    }
   ],
   "source": [
    "com = {}\n",
    "com[0] = 2\n",
    "print(com)"
   ]
  },
  {
   "cell_type": "code",
   "execution_count": 28,
   "metadata": {},
   "outputs": [
    {
     "name": "stdout",
     "output_type": "stream",
     "text": [
      "[[[ 0.  0.]\n",
      "  [ 1. 10.]\n",
      "  [ 1. 80.]\n",
      "  [ 0.  0.]\n",
      "  [ 0.  0.]\n",
      "  [ 0.  0.]\n",
      "  [ 0.  0.]]\n",
      "\n",
      " [[ 0.  0.]\n",
      "  [ 0.  0.]\n",
      "  [ 1.  6.]\n",
      "  [ 0.  0.]\n",
      "  [ 1. 20.]\n",
      "  [ 0.  0.]\n",
      "  [ 0.  0.]]\n",
      "\n",
      " [[ 0.  0.]\n",
      "  [ 0.  0.]\n",
      "  [ 0.  0.]\n",
      "  [ 1. 70.]\n",
      "  [ 0.  0.]\n",
      "  [ 0.  0.]\n",
      "  [ 0.  0.]]\n",
      "\n",
      " [[ 0.  0.]\n",
      "  [ 0.  0.]\n",
      "  [ 0.  0.]\n",
      "  [ 0.  0.]\n",
      "  [ 0.  0.]\n",
      "  [ 0.  0.]\n",
      "  [ 0.  0.]]\n",
      "\n",
      " [[ 0.  0.]\n",
      "  [ 0.  0.]\n",
      "  [ 0.  0.]\n",
      "  [ 0.  0.]\n",
      "  [ 0.  0.]\n",
      "  [ 1. 50.]\n",
      "  [ 1.  5.]]\n",
      "\n",
      " [[ 0.  0.]\n",
      "  [ 0.  0.]\n",
      "  [ 0.  0.]\n",
      "  [ 0.  0.]\n",
      "  [ 0.  0.]\n",
      "  [ 0.  0.]\n",
      "  [ 1. 10.]]\n",
      "\n",
      " [[ 0.  0.]\n",
      "  [ 0.  0.]\n",
      "  [ 0.  0.]\n",
      "  [ 0.  0.]\n",
      "  [ 0.  0.]\n",
      "  [ 0.  0.]\n",
      "  [ 0.  0.]]]\n"
     ]
    }
   ],
   "source": [
    "dedges = [(0,1,10),(0,2,80),(1,2,6),(1,4,20),(2,3,70),(4,5,50),(4,6,5),(5,6,10)]\n",
    "size = 7\n",
    "\n",
    "import numpy as np\n",
    "\n",
    "q = np.zeros(shape=(size, size,2))\n",
    "for i,j, w in dedges:\n",
    "    q[i,j, 0] = 1\n",
    "    q[i,j, 1] = w\n",
    "print(q)"
   ]
  },
  {
   "cell_type": "code",
   "execution_count": 52,
   "metadata": {},
   "outputs": [],
   "source": [
    "def dijkstra(WMat, s):\n",
    "    # extract rows, cols and weight column\n",
    "    rows, cols, x = WMat.shape\n",
    "    # assigning biggest number as infinity\n",
    "    infinity = np.max(WMat) * rows +1\n",
    "    # dict for visited and distance\n",
    "    visited, distance = {},{}\n",
    "\n",
    "    # marking all the vertex as not visted and infinite distance\n",
    "    for v in range(rows):\n",
    "        visited[v] , distance[v] = False, infinity\n",
    "\n",
    "    # DISTACE = 0\n",
    "    distance[s] = 0\n",
    "\n",
    "    # iterating through all the vertices and picking the not visited vertex with least weight \n",
    "    for u in range(rows):\n",
    "        # nextd is the least weight of not visited vertex\n",
    "        nextd = min(distance[v] for v in range(rows) if not visited[v])\n",
    "        # nextvlist id the the vertex with nextd distance\n",
    "        nextvlist = [v for v in range(rows) if (not visited[v]) and distance[v] == nextd]\n",
    "\n",
    "        if (nextvlist == []):\n",
    "            break\n",
    "\n",
    "        # nextv is the smallest vertex which we are visiting and marking it True\n",
    "        nextv = min(nextvlist)\n",
    "        visited[nextv] = True\n",
    "        \n",
    "\n",
    "        for v in range(cols):\n",
    "            if WMat[nextv, v, 0] == 1 and not visited[v]:\n",
    "                distance[v] = min(distance[v], distance[nextv]+WMat[nextv, v,1])\n",
    "    return(distance)"
   ]
  },
  {
   "cell_type": "code",
   "execution_count": 53,
   "metadata": {},
   "outputs": [
    {
     "name": "stdout",
     "output_type": "stream",
     "text": [
      "{0: 0, 1: 10.0, 2: 16.0, 3: 86.0, 4: 30.0, 5: 80.0, 6: 35.0}\n"
     ]
    }
   ],
   "source": [
    "dedges = [(0,1,10),(0,2,80),(1,2,6),(1,4,20),(2,3,70),(4,5,50),(4,6,5),(5,6,10)]\n",
    "size = 7\n",
    "import numpy as np\n",
    "W = np.zeros(shape=(size,size,2))\n",
    "for (i,j,w) in dedges:\n",
    "    W[i,j,0] = 1\n",
    "    W[i,j,1] = w\n",
    "print(dijkstra(W,0))"
   ]
  },
  {
   "cell_type": "code",
   "execution_count": 64,
   "metadata": {},
   "outputs": [],
   "source": [
    "def bellmanford(WMat, s):\n",
    "    # extract the nop of rows and cols from the matrix\n",
    "    rows, cols,x = WMat.shape\n",
    "    infinity = 1 + np.max(WMat) * rows\n",
    "    distance={}\n",
    "\n",
    "    # mark all the vertexes as infinity distance\n",
    "    for v in range(rows):\n",
    "        distance[v] = infinity\n",
    "\n",
    "    # initialise distance to 0\n",
    "    distance[s] = 0\n",
    "\n",
    "\n",
    "    for i in  range(rows):\n",
    "        # i for running the loop combinations n-1 times\n",
    "        for u in range(rows):\n",
    "            for v in range(cols):\n",
    "                # u and v are the row & col for the iteraion combinations\n",
    "                # i is the total number oi\n",
    "                if WMat[u,v, 0] == 1:\n",
    "                    distance[v] = min(distance[v], distance[u]+ WMat[u,v,1])\n",
    "\n",
    "    return(distance)"
   ]
  },
  {
   "cell_type": "code",
   "execution_count": 63,
   "metadata": {},
   "outputs": [
    {
     "name": "stdout",
     "output_type": "stream",
     "text": [
      "{0: 0, 1: 10.0, 2: 10.0, 3: 81.0, 4: 81.0, 5: 12.0, 6: 9.0, 7: 8.0}\n"
     ]
    }
   ],
   "source": [
    "edges = [(0,1,10),(0,7,8),(1,5,2),(2,1,1),(2,3,1),(3,4,3),(4,5,-1),(5,2,-2),(6,1,-4),(6,5,-1),(7,6,1)]\n",
    "size = 8\n",
    "import numpy as np\n",
    "W = np.zeros(shape=(size,size,2))\n",
    "for (i,j,w) in edges:\n",
    "    W[i,j,0] = 1\n",
    "    W[i,j,1] = w    \n",
    "print(bellmanford(W,0))"
   ]
  },
  {
   "cell_type": "markdown",
   "metadata": {},
   "source": [
    "Flyod marshall is a dynamic programming method "
   ]
  },
  {
   "cell_type": "code",
   "execution_count": 71,
   "metadata": {},
   "outputs": [],
   "source": [
    "def floydwarshall(WMat):\n",
    "    (rows,cols,x) = WMat.shape\n",
    "    infinity = np.max(WMat)*rows*rows+1\n",
    "   \n",
    "    SP = np.zeros(shape=(rows,cols,cols+1))\n",
    "    for i in range(rows):\n",
    "        for j in range(cols):\n",
    "            SP[i,j,0] = infinity\n",
    "            \n",
    "    for i in range(rows):\n",
    "        for j in range(cols):\n",
    "            if WMat[i,j,0] == 1:\n",
    "                SP[i,j,0] = WMat[i,j,1]\n",
    "\n",
    "    for k in range(1,cols+1):\n",
    "        for i in range(rows):\n",
    "            for j in range(cols):\n",
    "                SP[i,j,k] = min(SP[i,j,k-1],SP[i,k-1,k-1]+SP[k-1,j,k-1])\n",
    "    \n",
    "    return(SP[:,:,cols])"
   ]
  },
  {
   "cell_type": "code",
   "execution_count": 72,
   "metadata": {},
   "outputs": [
    {
     "name": "stdout",
     "output_type": "stream",
     "text": [
      "[[641.  10. 641. 641. 641. 641. 641. 641.]\n",
      " [641. 641. 641. 641. 641. 641. 641. 641.]\n",
      " [641. 641. 641. 641. 641. 641. 641. 641.]\n",
      " [641. 641. 641. 641. 641. 641. 641. 641.]\n",
      " [641. 641. 641. 641. 641. 641. 641. 641.]\n",
      " [641. 641. 641. 641. 641. 641. 641. 641.]\n",
      " [641. 641. 641. 641. 641. 641. 641. 641.]\n",
      " [641. 641. 641. 641. 641. 641. 641. 641.]]\n",
      "[[641.  10. 641. 641. 641. 641. 641.   8.]\n",
      " [641. 641. 641. 641. 641. 641. 641. 641.]\n",
      " [641. 641. 641. 641. 641. 641. 641. 641.]\n",
      " [641. 641. 641. 641. 641. 641. 641. 641.]\n",
      " [641. 641. 641. 641. 641. 641. 641. 641.]\n",
      " [641. 641. 641. 641. 641. 641. 641. 641.]\n",
      " [641. 641. 641. 641. 641. 641. 641. 641.]\n",
      " [641. 641. 641. 641. 641. 641. 641. 641.]]\n",
      "[[641.  10. 641. 641. 641.  12. 641.   8.]\n",
      " [641. 641. 641. 641. 641.   2. 641. 641.]\n",
      " [641. 641. 641. 641. 641. 641. 641. 641.]\n",
      " [641. 641. 641. 641. 641. 641. 641. 641.]\n",
      " [641. 641. 641. 641. 641. 641. 641. 641.]\n",
      " [641. 641. 641. 641. 641. 641. 641. 641.]\n",
      " [641. 641. 641. 641. 641. 641. 641. 641.]\n",
      " [641. 641. 641. 641. 641. 641. 641. 641.]]\n",
      "[[641.  10. 641. 641. 641.  12. 641.   8.]\n",
      " [641. 641. 641. 641. 641.   2. 641. 641.]\n",
      " [641.   1. 641. 641. 641.   3. 641. 641.]\n",
      " [641. 641. 641. 641. 641. 641. 641. 641.]\n",
      " [641. 641. 641. 641. 641. 641. 641. 641.]\n",
      " [641. 641. 641. 641. 641. 641. 641. 641.]\n",
      " [641. 641. 641. 641. 641. 641. 641. 641.]\n",
      " [641. 641. 641. 641. 641. 641. 641. 641.]]\n",
      "[[641.  10. 641. 641. 641.  12. 641.   8.]\n",
      " [641. 641. 641. 641. 641.   2. 641. 641.]\n",
      " [641.   1. 641.   1. 641.   3. 641. 641.]\n",
      " [641. 641. 641. 641. 641. 641. 641. 641.]\n",
      " [641. 641. 641. 641. 641. 641. 641. 641.]\n",
      " [641. 641. 641. 641. 641. 641. 641. 641.]\n",
      " [641. 641. 641. 641. 641. 641. 641. 641.]\n",
      " [641. 641. 641. 641. 641. 641. 641. 641.]]\n",
      "[[641.  10. 641. 641. 641.  12. 641.   8.]\n",
      " [641. 641. 641. 641. 641.   2. 641. 641.]\n",
      " [641.   1. 641.   1.   4.   3. 641. 641.]\n",
      " [641. 641. 641. 641.   3. 641. 641. 641.]\n",
      " [641. 641. 641. 641. 641. 641. 641. 641.]\n",
      " [641. 641. 641. 641. 641. 641. 641. 641.]\n",
      " [641. 641. 641. 641. 641. 641. 641. 641.]\n",
      " [641. 641. 641. 641. 641. 641. 641. 641.]]\n",
      "[[641.  10. 641. 641. 641.  12. 641.   8.]\n",
      " [641. 641. 641. 641. 641.   2. 641. 641.]\n",
      " [641.   1. 641.   1.   4.   3. 641. 641.]\n",
      " [641. 641. 641. 641.   3.   2. 641. 641.]\n",
      " [640. 640. 640. 640. 640.  -1. 640. 640.]\n",
      " [641. 641. 641. 641. 641. 640. 641. 641.]\n",
      " [641. 641. 641. 641. 641. 640. 641. 641.]\n",
      " [641. 641. 641. 641. 641. 640. 641. 641.]]\n",
      "[[641.  10.  10.  11.  14.  12. 641.   8.]\n",
      " [641.   1.   0.   1.   4.   2. 641. 641.]\n",
      " [641.   1.   1.   1.   4.   3. 641. 641.]\n",
      " [641.   1.   0.   1.   3.   2. 641. 641.]\n",
      " [638.  -2.  -3.  -2.   1.  -1. 638. 638.]\n",
      " [639.  -1.  -2.  -1.   2.   1. 639. 639.]\n",
      " [641. 639. 638. 639. 641. 640. 641. 641.]\n",
      " [641. 639. 638. 639. 641. 640. 641. 641.]]\n",
      "[[641.  10.  10.  11.  14.  12. 641.   8.]\n",
      " [641.   1.   0.   1.   4.   2. 641. 641.]\n",
      " [641.   1.   1.   1.   4.   3. 641. 641.]\n",
      " [641.   1.   0.   1.   3.   2. 641. 641.]\n",
      " [638.  -2.  -3.  -2.   1.  -1. 638. 638.]\n",
      " [639.  -1.  -2.  -1.   2.   1. 639. 639.]\n",
      " [637.  -4.  -4.  -3.   0.  -2. 637. 637.]\n",
      " [641. 637. 637. 638. 641. 639. 641. 641.]]\n",
      "[[641.  10.  10.  11.  14.  12. 641.   8.]\n",
      " [641.   1.   0.   1.   4.   2. 641. 641.]\n",
      " [641.   1.   1.   1.   4.   3. 641. 641.]\n",
      " [641.   1.   0.   1.   3.   2. 641. 641.]\n",
      " [638.  -2.  -3.  -2.   1.  -1. 638. 638.]\n",
      " [639.  -1.  -2.  -1.   2.   1. 639. 639.]\n",
      " [637.  -4.  -4.  -3.   0.  -2. 637. 637.]\n",
      " [641. 637. 637. 638. 641. 639. 641. 641.]]\n",
      "[[641.   5.   5.   6.   9.   7.   9.   8.]\n",
      " [641.   1.   0.   1.   4.   2. 641. 641.]\n",
      " [641.   1.   1.   1.   4.   3. 641. 641.]\n",
      " [641.   1.   0.   1.   3.   2. 641. 641.]\n",
      " [638.  -2.  -3.  -2.   1.  -1. 638. 638.]\n",
      " [639.  -1.  -2.  -1.   2.   1. 639. 639.]\n",
      " [637.  -4.  -4.  -3.   0.  -2. 637. 637.]\n",
      " [638.  -3.  -3.  -2.   1.  -1.   1. 638.]]\n"
     ]
    }
   ],
   "source": [
    "edges = [(0,1,10),(0,7,8),(1,5,2),(2,1,1),(2,3,1),(3,4,3),(4,5,-1),(5,2,-2),(6,1,-4),(6,5,-1),(7,6,1)]\n",
    "size = 8\n",
    "import numpy as np\n",
    "W = np.zeros(shape=(size,size,2))\n",
    "for (i,j,w) in edges:\n",
    "    W[i,j,0] = 1\n",
    "    W[i,j,1] = w    \n",
    "    print(floydwarshall(W))"
   ]
  },
  {
   "cell_type": "code",
   "execution_count": 91,
   "metadata": {},
   "outputs": [],
   "source": [
    "def primlist(WList): \n",
    "    infinity = 1+ max([d for u in WList.keys()  for (v,d) in WList[u]])\n",
    "    visited, distance = {}, {}\n",
    "\n",
    "    # assigning flase and infinity dis\n",
    "    for v in WList.keys():\n",
    "        visited[v], distance[v] = False, infinity\n",
    "\n",
    "    # final return list\n",
    "    TreeEdges = []\n",
    "    visited[0] = True\n",
    "\n",
    "    # assigning dist to the respective vertices\n",
    "    for v,d in WList[0]:\n",
    "        distance[v] = d\n",
    "    \n",
    "    # \n",
    "    for i in WList.keys():\n",
    "        mindist = infinity\n",
    "        nextv = None\n",
    "\n",
    "        for u in WList.keys():\n",
    "            for v,d in WList[u]:\n",
    "                if visited[u] and (not visited[v]) and d < mindist:\n",
    "                    mindist = d\n",
    "                    nextv = v\n",
    "                    nexte = (u,v)\n",
    "\n",
    "        if nextv is None:\n",
    "            break\n",
    "\n",
    "        visited[nextv] = True\n",
    "        TreeEdges.append(nexte)\n",
    "\n",
    "    # if the vertex is not visited the distance is taken to be of the min\n",
    "    # value of the distance of v or the d from the vertex \n",
    "        for v,d in WList[nextv]:\n",
    "            if not visited[v]:\n",
    "                distance[v] = min(distance[v], d)\n",
    "\n",
    "    return TreeEdges"
   ]
  },
  {
   "cell_type": "code",
   "execution_count": 92,
   "metadata": {},
   "outputs": [
    {
     "name": "stdout",
     "output_type": "stream",
     "text": [
      "[(0, 1), (1, 3), (1, 2), (2, 4)]\n"
     ]
    }
   ],
   "source": [
    "dedges = [(0,1,10),(0,3,18),(1,2,20),(1,3,6),(2,4,8),(3,4,70)]\n",
    "edges = dedges + [(j,i,w) for (i,j,w) in dedges]\n",
    "size = 5\n",
    "WL = {}\n",
    "for i in range(size):\n",
    "    WL[i] = []\n",
    "for (i,j,d) in edges:\n",
    "    WL[i].append((j,d))\n",
    "\n",
    "print(primlist(WL))"
   ]
  },
  {
   "cell_type": "code",
   "execution_count": 122,
   "metadata": {},
   "outputs": [],
   "source": [
    "def kruskal1(WList):\n",
    "    # TE is the final vertices pairs\n",
    "    edges, comp, TE = [], {}, []\n",
    "\n",
    "    # just changing the weights to be first element\n",
    "    for u in WList.keys():\n",
    "        edges.extend([d, u, v] for v,d in WList[u])\n",
    "        comp[u] = u\n",
    "\n",
    "    # sorting the edges by weight\n",
    "    edges.sort()\n",
    "\n",
    "\n",
    "    for d,u,v in edges:\n",
    "        if comp[u] != comp[v]: \n",
    "            TE.append((u,v))\n",
    "            c = comp[u]\n",
    "\n",
    "            for w in WList.keys():\n",
    "                if comp[w] == c:\n",
    "                    comp[w] = comp[v]\n",
    "\n",
    "    return comp "
   ]
  },
  {
   "cell_type": "code",
   "execution_count": 123,
   "metadata": {},
   "outputs": [
    {
     "name": "stdout",
     "output_type": "stream",
     "text": [
      "{0: 0}\n",
      "{0: 0, 1: 1}\n",
      "{0: 0, 1: 1, 2: 2}\n",
      "{0: 0, 1: 1, 2: 2, 3: 3}\n",
      "{0: 0, 1: 1, 2: 2, 3: 3, 4: 4}\n",
      "{0: 0, 1: 1, 2: 2, 3: 3, 4: 4, 5: 5}\n",
      "{0: 0, 1: 1, 2: 2, 3: 3, 4: 4, 5: 5, 6: 6}\n",
      "{0: 3, 1: 3, 2: 3, 3: 3, 4: 3, 5: 3, 6: 3}\n"
     ]
    }
   ],
   "source": [
    "dedges = [(0,1,10),(0,2,18),(1,2,6),(1,4,20),(2,3,70),(4,5,10),(4,6,10),(5,6,5)]\n",
    "edges = dedges + [(j,i,w) for (i,j,w) in dedges]\n",
    "size = 7\n",
    "WL = {}\n",
    "for i in range(size):\n",
    "    WL[i] = []\n",
    "for (i,j,d) in edges:\n",
    "    WL[i].append((j,d))\n",
    "print(kruskal1(WL))"
   ]
  },
  {
   "cell_type": "code",
   "execution_count": 127,
   "metadata": {
    "vscode": {
     "languageId": "sql"
    }
   },
   "outputs": [
    {
     "ename": "SyntaxError",
     "evalue": "invalid syntax (3777742347.py, line 1)",
     "output_type": "error",
     "traceback": [
      "\u001b[1;36m  Input \u001b[1;32mIn [127]\u001b[1;36m\u001b[0m\n\u001b[1;33m    CREATE TABLE Persons (\u001b[0m\n\u001b[1;37m           ^\u001b[0m\n\u001b[1;31mSyntaxError\u001b[0m\u001b[1;31m:\u001b[0m invalid syntax\n"
     ]
    }
   ],
   "source": [
    "CREATE TABLE Persons (\n",
    "    PersonID int,\n",
    "    LastName varchar(255),\n",
    "    FirstName varchar(255),\n",
    "    Address varchar(255),\n",
    "    City varchar(255)\n",
    ");"
   ]
  },
  {
   "cell_type": "code",
   "execution_count": 128,
   "metadata": {},
   "outputs": [
    {
     "ename": "ModuleNotFoundError",
     "evalue": "No module named 'psycopg2'",
     "output_type": "error",
     "traceback": [
      "\u001b[1;31m---------------------------------------------------------------------------\u001b[0m",
      "\u001b[1;31mModuleNotFoundError\u001b[0m                       Traceback (most recent call last)",
      "\u001b[1;32mp:\\iitm-bsc\\Misc\\grpa.ipynb Cell 28\u001b[0m in \u001b[0;36m<cell line: 1>\u001b[1;34m()\u001b[0m\n\u001b[1;32m----> <a href='vscode-notebook-cell:/p%3A/iitm-bsc/Misc/grpa.ipynb#ch0000035?line=0'>1</a>\u001b[0m \u001b[39mimport\u001b[39;00m \u001b[39mpsycopg2\u001b[39;00m\n\u001b[0;32m      <a href='vscode-notebook-cell:/p%3A/iitm-bsc/Misc/grpa.ipynb#ch0000035?line=1'>2</a>\u001b[0m \u001b[39mimport\u001b[39;00m \u001b[39msys\u001b[39;00m\u001b[39m,\u001b[39m \u001b[39mos\u001b[39;00m\n\u001b[0;32m      <a href='vscode-notebook-cell:/p%3A/iitm-bsc/Misc/grpa.ipynb#ch0000035?line=3'>4</a>\u001b[0m \u001b[39mdef\u001b[39;00m \u001b[39misPrime\u001b[39m(x):\n",
      "\u001b[1;31mModuleNotFoundError\u001b[0m: No module named 'psycopg2'"
     ]
    }
   ],
   "source": [
    "import psycopg2\n",
    "import sys, os\n",
    "\n",
    "def isPrime(x):\n",
    "    if x <=1:\n",
    "        return False\n",
    "    \n",
    "    for i in range(2,x):\n",
    "        if x%i == 0:\n",
    "            return False\n",
    "        return True\n",
    "\n",
    "conn = None\n",
    "\n",
    "try:\n",
    "    conn = psycopg2.connect(database=sys.argv[1], user=os.environ.get('PGUSER'),)\n",
    "    curr = conn.cursor()\n",
    "\n",
    "    curr.execute(\"select t.name, p.name, p.jersey_no from players p, teams t where p.team_id  = t.id order by p.name desc, t.name desc\")\n",
    "\n",
    "    while True:\n",
    "        row = curr.fetchone()\n",
    "\n",
    "        if not row:\n",
    "            break\n",
    "\n",
    "        if isPrime(row[2]):\n",
    "            print(f'{row[1]}, {row[0]}')\n",
    "        curr.close()\n",
    "\n",
    "except(Exception, psycopg2.DatabaseError) as error:\n",
    "    print(error)\n",
    "\n",
    "finally:\n",
    "    if conn is not None:\n",
    "        conn.close()\n"
   ]
  },
  {
   "cell_type": "code",
   "execution_count": null,
   "metadata": {},
   "outputs": [],
   "source": []
  }
 ],
 "metadata": {
  "kernelspec": {
   "display_name": "Python 3.10.3 64-bit",
   "language": "python",
   "name": "python3"
  },
  "language_info": {
   "codemirror_mode": {
    "name": "ipython",
    "version": 3
   },
   "file_extension": ".py",
   "mimetype": "text/x-python",
   "name": "python",
   "nbconvert_exporter": "python",
   "pygments_lexer": "ipython3",
   "version": "3.10.3"
  },
  "orig_nbformat": 4,
  "vscode": {
   "interpreter": {
    "hash": "fbc768028c3e6ead51d9a200ddcb2ec858ae62844dcd1994729a8279be9b48f2"
   }
  }
 },
 "nbformat": 4,
 "nbformat_minor": 2
}
