{
 "cells": [
  {
   "cell_type": "code",
   "execution_count": 1,
   "metadata": {},
   "outputs": [
    {
     "name": "stdout",
     "output_type": "stream",
     "text": [
      "Hello\n"
     ]
    }
   ],
   "source": [
    "print('Hello')"
   ]
  },
  {
   "cell_type": "code",
   "execution_count": 2,
   "metadata": {},
   "outputs": [],
   "source": [
    "class create_stack:\n",
    "    def __init__(self):\n",
    "        self.stack = []\n",
    "\n",
    "    def push(self,d):\n",
    "        self.stack.append(d)\n",
    "\n",
    "    def pop(self):\n",
    "        t=self.stack[-1]\n",
    "        self.stack = self.stack[:-1]\n",
    "        return t\n"
   ]
  },
  {
   "cell_type": "code",
   "execution_count": 5,
   "metadata": {},
   "outputs": [],
   "source": [
    "def EvaluateExpression(exp):\n",
    "    opt = ['+','-','*','/','**']\n",
    "    stk = create_stack()\n",
    "    L=exp.split('')\n",
    "\n",
    "    for i in L:\n",
    "        if i not in opt:\n",
    "            stk.push(i)\n",
    "        else:\n",
    "            b=stk.pop()\n",
    "            a=stk.pop()\n",
    "\n",
    "            res = eval(a+i+b)\n",
    "\n",
    "            stk.push(str(res))\n",
    "        return stk.pop()\n"
   ]
  },
  {
   "cell_type": "code",
   "execution_count": null,
   "metadata": {},
   "outputs": [],
   "source": [
    "EvaluateExpression([2, 3 ,1])\n",
    "\n"
   ]
  },
  {
   "cell_type": "code",
   "execution_count": 11,
   "metadata": {},
   "outputs": [],
   "source": [
    "def reverse(root):\n",
    "    if root.isEmpty():\n",
    "        return root\n",
    "\n",
    "    temp = root\n",
    "    prev = None\n",
    "\n",
    "    while(temp):\n",
    "        next, temp.next = temp.next, prev \n",
    "        prev, temp = temp ,next\n",
    "\n",
    "    return prev"
   ]
  },
  {
   "cell_type": "code",
   "execution_count": null,
   "metadata": {},
   "outputs": [],
   "source": [
    "reverse(12)"
   ]
  },
  {
   "cell_type": "code",
   "execution_count": 13,
   "metadata": {},
   "outputs": [
    {
     "name": "stdout",
     "output_type": "stream",
     "text": [
      "[False, False]\n"
     ]
    }
   ],
   "source": [
    "n=2\n",
    "res = [False for i in range(n)]\n",
    "print(res)"
   ]
  },
  {
   "cell_type": "code",
   "execution_count": 17,
   "metadata": {},
   "outputs": [],
   "source": [
    "from collections import deque\n",
    "class myQueue:\n",
    "    def __init__(self):\n",
    "        self.Q = deque()\n",
    "\n",
    "    def deQueues(self):\n",
    "        return self.Q.popleft()\n",
    "    \n",
    "    def enQueue(self, x):\n",
    "        return self.Q.append(x)\n",
    "\n",
    "    def isEmpty(self):\n",
    "        return False if self.Q.empty() else True\n",
    "\n",
    "\n",
    "def findConnectionLevel(n, Gmat, Px, Py):\n",
    "    q = myQueue()\n",
    "\n",
    "    visited = [False for i in range(n)]\n",
    "    q.enQueue(Px)\n",
    "    q.enQueue(-1) \n",
    "\n",
    "    visited[Px]  = True\n",
    "\n",
    "    level  =1\n",
    "\n",
    "    while not q.isEmpty():\n",
    "        v = q.deQueues()\n",
    "\n",
    "        if v == -1:\n",
    "            level +=1\n",
    "            if (not q.isEmpty()):\n",
    "                q.enQueue(-1)\n",
    "                continue\n",
    "\n",
    "            for i in range(n):\n",
    "                if( i==Px and Gmat[v][i] == 1):\n",
    "                    return level\n",
    "                \n",
    "                if (Gmat[v][i] and not visited[i]):\n",
    "                    q.enQueue(i)\n",
    "                    visited[i] = True\n",
    "            return 0\n",
    "            \n"
   ]
  },
  {
   "cell_type": "code",
   "execution_count": null,
   "metadata": {},
   "outputs": [],
   "source": [
    "def neighbours(Amat,v):\n",
    "    (rows,cols) = (len(Amat),len(Amat[0]))\n",
    "    nbrs = []\n",
    "    for i in range(cols):\n",
    "        if Amat[i][v] == 1:\n",
    "            nbrs.append(i)\n",
    "    return nbrs\n",
    "    \n",
    "def findConnectionLevel(v,Amat, X, Y):\n",
    "    level = {}\n",
    "    (rows,cols) = (len(Amat),len(Amat[0]))\n",
    "    for i in range(rows):\n",
    "        level[i] = -1\n",
    "    q = []\n",
    "    q.append(X)\n",
    "    level[X] = 0\n",
    "    \n",
    "    while q != []:\n",
    "        j = q.pop()\n",
    "        for k in neighbours(Amat,j):\n",
    "            \n",
    "            if k == Y:\n",
    "                level[k] = level[j]+1\n",
    "                break\n",
    "            \n",
    "            if level[k] == -1:\n",
    "                level[k] = level[j]+1\n",
    "                q.append(k)\n",
    "            \n",
    "    \n",
    "    if level[Y] >= 0:\n",
    "        return level[Y]\n",
    "    else:\n",
    "        return 0\n",
    "vertices = int(input())\n",
    "Amat = []\n",
    "for i in range(vertices):\n",
    "  row = [int(item) for item in input().split(\" \")]\n",
    "  Amat.append(row)\n",
    "personX = int(input())\n",
    "personY = int(input())\n",
    "print(findConnectionLevel(vertices, Amat, personX, personY))"
   ]
  },
  {
   "cell_type": "code",
   "execution_count": 20,
   "metadata": {},
   "outputs": [
    {
     "name": "stdout",
     "output_type": "stream",
     "text": [
      "[]\n"
     ]
    }
   ],
   "source": [
    "a = list()\n",
    "\n",
    "print(a)\n"
   ]
  },
  {
   "cell_type": "code",
   "execution_count": 21,
   "metadata": {},
   "outputs": [
    {
     "name": "stdout",
     "output_type": "stream",
     "text": [
      "{}\n"
     ]
    }
   ],
   "source": [
    "b = dict()\n",
    "\n",
    "print(b)\n"
   ]
  },
  {
   "cell_type": "code",
   "execution_count": null,
   "metadata": {},
   "outputs": [],
   "source": [
    "def FiberLink(distance_map):\n",
    "    (edges, components, t, l, s) = (list() , dict(), list(distance_map.keys()), 0)\n",
    "    for u in l: \n",
    "        edges.extend((d,u,v) for (v,d) in distance_map[u])\n",
    "        components[u] = u\n",
    "    edges.sort()\n",
    "\n",
    "    for [d,u,v] in edges:\n",
    "        if (components[u] != components[v]):\n",
    "            t.append((u,v))\n",
    "            c = components[u]\n",
    "            s+=d\n",
    "\n",
    "            for i in l: \n",
    "                if components[i] == c:\n",
    "                    components[i] = components[v]\n",
    "    return s\n",
    "\n",
    "size = int(input())\n",
    "edges = eval(input())\n",
    "WL = {}\n",
    "for i in range(size):\n",
    "    WL[i] = []\n",
    "for ed in edges:\n",
    "    WL[ed[0]].append((ed[1],ed[2]))\n",
    "    WL[ed[1]].append((ed[0],ed[2]))\n",
    "print(FiberLink(WL))\n"
   ]
  },
  {
   "cell_type": "code",
   "execution_count": 27,
   "metadata": {},
   "outputs": [
    {
     "name": "stdout",
     "output_type": "stream",
     "text": [
      "10\n"
     ]
    }
   ],
   "source": [
    "def kruskal(WList):\n",
    "    (edges,component,TE)=([],{},[])\n",
    "    for u in WList.keys():\n",
    "        edges.extend([(d,u,v) for (v,d) in WList[u]])\n",
    "        component[u] = u\n",
    "    edges.sort()\n",
    "    for (d,u,v) in edges:\n",
    "        if component[u] != component[v]:\n",
    "            TE.append((u,v))\n",
    "            c = component[u]\n",
    "        for w in WList.keys():\n",
    "            if component[w] == c:\n",
    "                component[w] = component[v]\n",
    "    return(TE)\n",
    "\n",
    "def FiberLink(distance_map):\n",
    "    R = kruskal(distance_map)\n",
    "    S = 0\n",
    "    for e in R:\n",
    "        for ed in distance_map[e[0]]:\n",
    "            if ed[0]==e[1]:\n",
    "                S += ed[1]\n",
    "    return S\n",
    "size = int(input())\n",
    "edges = eval(input())\n",
    "WL = {}\n",
    "for i in range(size):\n",
    "    WL[i] = []\n",
    "for ed in edges:\n",
    "    WL[ed[0]].append((ed[1],ed[2]))\n",
    "    WL[ed[1]].append((ed[0],ed[2]))\n",
    "print(FiberLink(WL))"
   ]
  },
  {
   "cell_type": "code",
   "execution_count": 26,
   "metadata": {},
   "outputs": [
    {
     "name": "stdout",
     "output_type": "stream",
     "text": [
      "{0: 2}\n"
     ]
    }
   ],
   "source": [
    "com = {}\n",
    "com[0] = 2\n",
    "print(com)"
   ]
  },
  {
   "cell_type": "code",
   "execution_count": 28,
   "metadata": {},
   "outputs": [
    {
     "name": "stdout",
     "output_type": "stream",
     "text": [
      "[[[ 0.  0.]\n",
      "  [ 1. 10.]\n",
      "  [ 1. 80.]\n",
      "  [ 0.  0.]\n",
      "  [ 0.  0.]\n",
      "  [ 0.  0.]\n",
      "  [ 0.  0.]]\n",
      "\n",
      " [[ 0.  0.]\n",
      "  [ 0.  0.]\n",
      "  [ 1.  6.]\n",
      "  [ 0.  0.]\n",
      "  [ 1. 20.]\n",
      "  [ 0.  0.]\n",
      "  [ 0.  0.]]\n",
      "\n",
      " [[ 0.  0.]\n",
      "  [ 0.  0.]\n",
      "  [ 0.  0.]\n",
      "  [ 1. 70.]\n",
      "  [ 0.  0.]\n",
      "  [ 0.  0.]\n",
      "  [ 0.  0.]]\n",
      "\n",
      " [[ 0.  0.]\n",
      "  [ 0.  0.]\n",
      "  [ 0.  0.]\n",
      "  [ 0.  0.]\n",
      "  [ 0.  0.]\n",
      "  [ 0.  0.]\n",
      "  [ 0.  0.]]\n",
      "\n",
      " [[ 0.  0.]\n",
      "  [ 0.  0.]\n",
      "  [ 0.  0.]\n",
      "  [ 0.  0.]\n",
      "  [ 0.  0.]\n",
      "  [ 1. 50.]\n",
      "  [ 1.  5.]]\n",
      "\n",
      " [[ 0.  0.]\n",
      "  [ 0.  0.]\n",
      "  [ 0.  0.]\n",
      "  [ 0.  0.]\n",
      "  [ 0.  0.]\n",
      "  [ 0.  0.]\n",
      "  [ 1. 10.]]\n",
      "\n",
      " [[ 0.  0.]\n",
      "  [ 0.  0.]\n",
      "  [ 0.  0.]\n",
      "  [ 0.  0.]\n",
      "  [ 0.  0.]\n",
      "  [ 0.  0.]\n",
      "  [ 0.  0.]]]\n"
     ]
    }
   ],
   "source": [
    "dedges = [(0,1,10),(0,2,80),(1,2,6),(1,4,20),(2,3,70),(4,5,50),(4,6,5),(5,6,10)]\n",
    "size = 7\n",
    "\n",
    "import numpy as np\n",
    "\n",
    "q = np.zeros(shape=(size, size,2))\n",
    "for i,j, w in dedges:\n",
    "    q[i,j, 0] = 1\n",
    "    q[i,j, 1] = w\n",
    "print(q)"
   ]
  },
  {
   "cell_type": "code",
   "execution_count": 52,
   "metadata": {},
   "outputs": [],
   "source": [
    "def dijkstra(WMat, s):\n",
    "    # extract rows, cols and weight column\n",
    "    rows, cols, x = WMat.shape\n",
    "    # assigning biggest number as infinity\n",
    "    infinity = np.max(WMat) * rows +1\n",
    "    # dict for visited and distance\n",
    "    visited, distance = {},{}\n",
    "\n",
    "    # marking all the vertex as not visted and infinite distance\n",
    "    for v in range(rows):\n",
    "        visited[v] , distance[v] = False, infinity\n",
    "\n",
    "    # DISTACE = 0\n",
    "    distance[s] = 0\n",
    "\n",
    "    # iterating through all the vertices and picking the not visited vertex with least weight \n",
    "    for u in range(rows):\n",
    "        # nextd is the least weight of not visited vertex\n",
    "        nextd = min(distance[v] for v in range(rows) if not visited[v])\n",
    "        # nextvlist id the the vertex with nextd distance\n",
    "        nextvlist = [v for v in range(rows) if (not visited[v]) and distance[v] == nextd]\n",
    "\n",
    "        if (nextvlist == []):\n",
    "            break\n",
    "\n",
    "        # nextv is the smallest vertex which we are visiting and marking it True\n",
    "        nextv = min(nextvlist)\n",
    "        visited[nextv] = True\n",
    "        \n",
    "\n",
    "        for v in range(cols):\n",
    "            if WMat[nextv, v, 0] == 1 and not visited[v]:\n",
    "                distance[v] = min(distance[v], distance[nextv]+WMat[nextv, v,1])\n",
    "    return(distance)"
   ]
  },
  {
   "cell_type": "code",
   "execution_count": 53,
   "metadata": {},
   "outputs": [
    {
     "name": "stdout",
     "output_type": "stream",
     "text": [
      "{0: 0, 1: 10.0, 2: 16.0, 3: 86.0, 4: 30.0, 5: 80.0, 6: 35.0}\n"
     ]
    }
   ],
   "source": [
    "dedges = [(0,1,10),(0,2,80),(1,2,6),(1,4,20),(2,3,70),(4,5,50),(4,6,5),(5,6,10)]\n",
    "size = 7\n",
    "import numpy as np\n",
    "W = np.zeros(shape=(size,size,2))\n",
    "for (i,j,w) in dedges:\n",
    "    W[i,j,0] = 1\n",
    "    W[i,j,1] = w\n",
    "print(dijkstra(W,0))"
   ]
  },
  {
   "cell_type": "code",
   "execution_count": 64,
   "metadata": {},
   "outputs": [],
   "source": [
    "def bellmanford(WMat, s):\n",
    "    # extract the nop of rows and cols from the matrix\n",
    "    rows, cols,x = WMat.shape\n",
    "    infinity = 1 + np.max(WMat) * rows\n",
    "    distance={}\n",
    "\n",
    "    # mark all the vertexes as infinity distance\n",
    "    for v in range(rows):\n",
    "        distance[v] = infinity\n",
    "\n",
    "    # initialise distance to 0\n",
    "    distance[s] = 0\n",
    "\n",
    "\n",
    "    for i in  range(rows):\n",
    "        # i for running the loop combinations n-1 times\n",
    "        for u in range(rows):\n",
    "            for v in range(cols):\n",
    "                # u and v are the row & col for the iteraion combinations\n",
    "                # i is the total number oi\n",
    "                if WMat[u,v, 0] == 1:\n",
    "                    distance[v] = min(distance[v], distance[u]+ WMat[u,v,1])\n",
    "\n",
    "    return(distance)"
   ]
  },
  {
   "cell_type": "code",
   "execution_count": 63,
   "metadata": {},
   "outputs": [
    {
     "name": "stdout",
     "output_type": "stream",
     "text": [
      "{0: 0, 1: 10.0, 2: 10.0, 3: 81.0, 4: 81.0, 5: 12.0, 6: 9.0, 7: 8.0}\n"
     ]
    }
   ],
   "source": [
    "edges = [(0,1,10),(0,7,8),(1,5,2),(2,1,1),(2,3,1),(3,4,3),(4,5,-1),(5,2,-2),(6,1,-4),(6,5,-1),(7,6,1)]\n",
    "size = 8\n",
    "import numpy as np\n",
    "W = np.zeros(shape=(size,size,2))\n",
    "for (i,j,w) in edges:\n",
    "    W[i,j,0] = 1\n",
    "    W[i,j,1] = w    \n",
    "print(bellmanford(W,0))"
   ]
  },
  {
   "cell_type": "markdown",
   "metadata": {},
   "source": [
    "Flyod marshall is a dynamic programming method "
   ]
  },
  {
   "cell_type": "code",
   "execution_count": 71,
   "metadata": {},
   "outputs": [],
   "source": [
    "def floydwarshall(WMat):\n",
    "    (rows,cols,x) = WMat.shape\n",
    "    infinity = np.max(WMat)*rows*rows+1\n",
    "   \n",
    "    SP = np.zeros(shape=(rows,cols,cols+1))\n",
    "    for i in range(rows):\n",
    "        for j in range(cols):\n",
    "            SP[i,j,0] = infinity\n",
    "            \n",
    "    for i in range(rows):\n",
    "        for j in range(cols):\n",
    "            if WMat[i,j,0] == 1:\n",
    "                SP[i,j,0] = WMat[i,j,1]\n",
    "\n",
    "    for k in range(1,cols+1):\n",
    "        for i in range(rows):\n",
    "            for j in range(cols):\n",
    "                SP[i,j,k] = min(SP[i,j,k-1],SP[i,k-1,k-1]+SP[k-1,j,k-1])\n",
    "    \n",
    "    return(SP[:,:,cols])"
   ]
  },
  {
   "cell_type": "code",
   "execution_count": 72,
   "metadata": {},
   "outputs": [
    {
     "name": "stdout",
     "output_type": "stream",
     "text": [
      "[[641.  10. 641. 641. 641. 641. 641. 641.]\n",
      " [641. 641. 641. 641. 641. 641. 641. 641.]\n",
      " [641. 641. 641. 641. 641. 641. 641. 641.]\n",
      " [641. 641. 641. 641. 641. 641. 641. 641.]\n",
      " [641. 641. 641. 641. 641. 641. 641. 641.]\n",
      " [641. 641. 641. 641. 641. 641. 641. 641.]\n",
      " [641. 641. 641. 641. 641. 641. 641. 641.]\n",
      " [641. 641. 641. 641. 641. 641. 641. 641.]]\n",
      "[[641.  10. 641. 641. 641. 641. 641.   8.]\n",
      " [641. 641. 641. 641. 641. 641. 641. 641.]\n",
      " [641. 641. 641. 641. 641. 641. 641. 641.]\n",
      " [641. 641. 641. 641. 641. 641. 641. 641.]\n",
      " [641. 641. 641. 641. 641. 641. 641. 641.]\n",
      " [641. 641. 641. 641. 641. 641. 641. 641.]\n",
      " [641. 641. 641. 641. 641. 641. 641. 641.]\n",
      " [641. 641. 641. 641. 641. 641. 641. 641.]]\n",
      "[[641.  10. 641. 641. 641.  12. 641.   8.]\n",
      " [641. 641. 641. 641. 641.   2. 641. 641.]\n",
      " [641. 641. 641. 641. 641. 641. 641. 641.]\n",
      " [641. 641. 641. 641. 641. 641. 641. 641.]\n",
      " [641. 641. 641. 641. 641. 641. 641. 641.]\n",
      " [641. 641. 641. 641. 641. 641. 641. 641.]\n",
      " [641. 641. 641. 641. 641. 641. 641. 641.]\n",
      " [641. 641. 641. 641. 641. 641. 641. 641.]]\n",
      "[[641.  10. 641. 641. 641.  12. 641.   8.]\n",
      " [641. 641. 641. 641. 641.   2. 641. 641.]\n",
      " [641.   1. 641. 641. 641.   3. 641. 641.]\n",
      " [641. 641. 641. 641. 641. 641. 641. 641.]\n",
      " [641. 641. 641. 641. 641. 641. 641. 641.]\n",
      " [641. 641. 641. 641. 641. 641. 641. 641.]\n",
      " [641. 641. 641. 641. 641. 641. 641. 641.]\n",
      " [641. 641. 641. 641. 641. 641. 641. 641.]]\n",
      "[[641.  10. 641. 641. 641.  12. 641.   8.]\n",
      " [641. 641. 641. 641. 641.   2. 641. 641.]\n",
      " [641.   1. 641.   1. 641.   3. 641. 641.]\n",
      " [641. 641. 641. 641. 641. 641. 641. 641.]\n",
      " [641. 641. 641. 641. 641. 641. 641. 641.]\n",
      " [641. 641. 641. 641. 641. 641. 641. 641.]\n",
      " [641. 641. 641. 641. 641. 641. 641. 641.]\n",
      " [641. 641. 641. 641. 641. 641. 641. 641.]]\n",
      "[[641.  10. 641. 641. 641.  12. 641.   8.]\n",
      " [641. 641. 641. 641. 641.   2. 641. 641.]\n",
      " [641.   1. 641.   1.   4.   3. 641. 641.]\n",
      " [641. 641. 641. 641.   3. 641. 641. 641.]\n",
      " [641. 641. 641. 641. 641. 641. 641. 641.]\n",
      " [641. 641. 641. 641. 641. 641. 641. 641.]\n",
      " [641. 641. 641. 641. 641. 641. 641. 641.]\n",
      " [641. 641. 641. 641. 641. 641. 641. 641.]]\n",
      "[[641.  10. 641. 641. 641.  12. 641.   8.]\n",
      " [641. 641. 641. 641. 641.   2. 641. 641.]\n",
      " [641.   1. 641.   1.   4.   3. 641. 641.]\n",
      " [641. 641. 641. 641.   3.   2. 641. 641.]\n",
      " [640. 640. 640. 640. 640.  -1. 640. 640.]\n",
      " [641. 641. 641. 641. 641. 640. 641. 641.]\n",
      " [641. 641. 641. 641. 641. 640. 641. 641.]\n",
      " [641. 641. 641. 641. 641. 640. 641. 641.]]\n",
      "[[641.  10.  10.  11.  14.  12. 641.   8.]\n",
      " [641.   1.   0.   1.   4.   2. 641. 641.]\n",
      " [641.   1.   1.   1.   4.   3. 641. 641.]\n",
      " [641.   1.   0.   1.   3.   2. 641. 641.]\n",
      " [638.  -2.  -3.  -2.   1.  -1. 638. 638.]\n",
      " [639.  -1.  -2.  -1.   2.   1. 639. 639.]\n",
      " [641. 639. 638. 639. 641. 640. 641. 641.]\n",
      " [641. 639. 638. 639. 641. 640. 641. 641.]]\n",
      "[[641.  10.  10.  11.  14.  12. 641.   8.]\n",
      " [641.   1.   0.   1.   4.   2. 641. 641.]\n",
      " [641.   1.   1.   1.   4.   3. 641. 641.]\n",
      " [641.   1.   0.   1.   3.   2. 641. 641.]\n",
      " [638.  -2.  -3.  -2.   1.  -1. 638. 638.]\n",
      " [639.  -1.  -2.  -1.   2.   1. 639. 639.]\n",
      " [637.  -4.  -4.  -3.   0.  -2. 637. 637.]\n",
      " [641. 637. 637. 638. 641. 639. 641. 641.]]\n",
      "[[641.  10.  10.  11.  14.  12. 641.   8.]\n",
      " [641.   1.   0.   1.   4.   2. 641. 641.]\n",
      " [641.   1.   1.   1.   4.   3. 641. 641.]\n",
      " [641.   1.   0.   1.   3.   2. 641. 641.]\n",
      " [638.  -2.  -3.  -2.   1.  -1. 638. 638.]\n",
      " [639.  -1.  -2.  -1.   2.   1. 639. 639.]\n",
      " [637.  -4.  -4.  -3.   0.  -2. 637. 637.]\n",
      " [641. 637. 637. 638. 641. 639. 641. 641.]]\n",
      "[[641.   5.   5.   6.   9.   7.   9.   8.]\n",
      " [641.   1.   0.   1.   4.   2. 641. 641.]\n",
      " [641.   1.   1.   1.   4.   3. 641. 641.]\n",
      " [641.   1.   0.   1.   3.   2. 641. 641.]\n",
      " [638.  -2.  -3.  -2.   1.  -1. 638. 638.]\n",
      " [639.  -1.  -2.  -1.   2.   1. 639. 639.]\n",
      " [637.  -4.  -4.  -3.   0.  -2. 637. 637.]\n",
      " [638.  -3.  -3.  -2.   1.  -1.   1. 638.]]\n"
     ]
    }
   ],
   "source": [
    "edges = [(0,1,10),(0,7,8),(1,5,2),(2,1,1),(2,3,1),(3,4,3),(4,5,-1),(5,2,-2),(6,1,-4),(6,5,-1),(7,6,1)]\n",
    "size = 8\n",
    "import numpy as np\n",
    "W = np.zeros(shape=(size,size,2))\n",
    "for (i,j,w) in edges:\n",
    "    W[i,j,0] = 1\n",
    "    W[i,j,1] = w    \n",
    "    print(floydwarshall(W))"
   ]
  },
  {
   "cell_type": "code",
   "execution_count": 91,
   "metadata": {},
   "outputs": [],
   "source": [
    "def primlist(WList): \n",
    "    infinity = 1+ max([d for u in WList.keys()  for (v,d) in WList[u]])\n",
    "    visited, distance = {}, {}\n",
    "\n",
    "    # assigning flase and infinity dis\n",
    "    for v in WList.keys():\n",
    "        visited[v], distance[v] = False, infinity\n",
    "\n",
    "    # final return list\n",
    "    TreeEdges = []\n",
    "    visited[0] = True\n",
    "\n",
    "    # assigning dist to the respective vertices\n",
    "    for v,d in WList[0]:\n",
    "        distance[v] = d\n",
    "    \n",
    "    # \n",
    "    for i in WList.keys():\n",
    "        mindist = infinity\n",
    "        nextv = None\n",
    "\n",
    "        for u in WList.keys():\n",
    "            for v,d in WList[u]:\n",
    "                if visited[u] and (not visited[v]) and d < mindist:\n",
    "                    mindist = d\n",
    "                    nextv = v\n",
    "                    nexte = (u,v)\n",
    "\n",
    "        if nextv is None:\n",
    "            break\n",
    "\n",
    "        visited[nextv] = True\n",
    "        TreeEdges.append(nexte)\n",
    "\n",
    "    # if the vertex is not visited the distance is taken to be of the min\n",
    "    # value of the distance of v or the d from the vertex \n",
    "        for v,d in WList[nextv]:\n",
    "            if not visited[v]:\n",
    "                distance[v] = min(distance[v], d)\n",
    "\n",
    "    return TreeEdges"
   ]
  },
  {
   "cell_type": "code",
   "execution_count": 92,
   "metadata": {},
   "outputs": [
    {
     "name": "stdout",
     "output_type": "stream",
     "text": [
      "[(0, 1), (1, 3), (1, 2), (2, 4)]\n"
     ]
    }
   ],
   "source": [
    "dedges = [(0,1,10),(0,3,18),(1,2,20),(1,3,6),(2,4,8),(3,4,70)]\n",
    "edges = dedges + [(j,i,w) for (i,j,w) in dedges]\n",
    "size = 5\n",
    "WL = {}\n",
    "for i in range(size):\n",
    "    WL[i] = []\n",
    "for (i,j,d) in edges:\n",
    "    WL[i].append((j,d))\n",
    "\n",
    "print(primlist(WL))"
   ]
  },
  {
   "cell_type": "code",
   "execution_count": 122,
   "metadata": {},
   "outputs": [],
   "source": [
    "def kruskal1(WList):\n",
    "    # TE is the final vertices pairs\n",
    "    edges, comp, TE = [], {}, []\n",
    "\n",
    "    # just changing the weights to be first element\n",
    "    for u in WList.keys():\n",
    "        edges.extend([d, u, v] for v,d in WList[u])\n",
    "        comp[u] = u\n",
    "\n",
    "    # sorting the edges by weight\n",
    "    edges.sort()\n",
    "\n",
    "\n",
    "    for d,u,v in edges:\n",
    "        if comp[u] != comp[v]: \n",
    "            TE.append((u,v))\n",
    "            c = comp[u]\n",
    "\n",
    "            for w in WList.keys():\n",
    "                if comp[w] == c:\n",
    "                    comp[w] = comp[v]\n",
    "\n",
    "    return comp "
   ]
  },
  {
   "cell_type": "code",
   "execution_count": 123,
   "metadata": {},
   "outputs": [
    {
     "name": "stdout",
     "output_type": "stream",
     "text": [
      "{0: 0}\n",
      "{0: 0, 1: 1}\n",
      "{0: 0, 1: 1, 2: 2}\n",
      "{0: 0, 1: 1, 2: 2, 3: 3}\n",
      "{0: 0, 1: 1, 2: 2, 3: 3, 4: 4}\n",
      "{0: 0, 1: 1, 2: 2, 3: 3, 4: 4, 5: 5}\n",
      "{0: 0, 1: 1, 2: 2, 3: 3, 4: 4, 5: 5, 6: 6}\n",
      "{0: 3, 1: 3, 2: 3, 3: 3, 4: 3, 5: 3, 6: 3}\n"
     ]
    }
   ],
   "source": [
    "dedges = [(0,1,10),(0,2,18),(1,2,6),(1,4,20),(2,3,70),(4,5,10),(4,6,10),(5,6,5)]\n",
    "edges = dedges + [(j,i,w) for (i,j,w) in dedges]\n",
    "size = 7\n",
    "WL = {}\n",
    "for i in range(size):\n",
    "    WL[i] = []\n",
    "for (i,j,d) in edges:\n",
    "    WL[i].append((j,d))\n",
    "print(kruskal1(WL))"
   ]
  },
  {
   "cell_type": "code",
   "execution_count": 127,
   "metadata": {
    "vscode": {
     "languageId": "sql"
    }
   },
   "outputs": [
    {
     "ename": "SyntaxError",
     "evalue": "invalid syntax (3777742347.py, line 1)",
     "output_type": "error",
     "traceback": [
      "\u001b[1;36m  Input \u001b[1;32mIn [127]\u001b[1;36m\u001b[0m\n\u001b[1;33m    CREATE TABLE Persons (\u001b[0m\n\u001b[1;37m           ^\u001b[0m\n\u001b[1;31mSyntaxError\u001b[0m\u001b[1;31m:\u001b[0m invalid syntax\n"
     ]
    }
   ],
   "source": [
    "CREATE TABLE Persons (\n",
    "    PersonID int,\n",
    "    LastName varchar(255),\n",
    "    FirstName varchar(255),\n",
    "    Address varchar(255),\n",
    "    City varchar(255)\n",
    ");"
   ]
  },
  {
   "cell_type": "code",
   "execution_count": 128,
   "metadata": {},
   "outputs": [
    {
     "ename": "ModuleNotFoundError",
     "evalue": "No module named 'psycopg2'",
     "output_type": "error",
     "traceback": [
      "\u001b[1;31m---------------------------------------------------------------------------\u001b[0m",
      "\u001b[1;31mModuleNotFoundError\u001b[0m                       Traceback (most recent call last)",
      "\u001b[1;32mp:\\iitm-bsc\\Misc\\grpa.ipynb Cell 28\u001b[0m in \u001b[0;36m<cell line: 1>\u001b[1;34m()\u001b[0m\n\u001b[1;32m----> <a href='vscode-notebook-cell:/p%3A/iitm-bsc/Misc/grpa.ipynb#ch0000035?line=0'>1</a>\u001b[0m \u001b[39mimport\u001b[39;00m \u001b[39mpsycopg2\u001b[39;00m\n\u001b[0;32m      <a href='vscode-notebook-cell:/p%3A/iitm-bsc/Misc/grpa.ipynb#ch0000035?line=1'>2</a>\u001b[0m \u001b[39mimport\u001b[39;00m \u001b[39msys\u001b[39;00m\u001b[39m,\u001b[39m \u001b[39mos\u001b[39;00m\n\u001b[0;32m      <a href='vscode-notebook-cell:/p%3A/iitm-bsc/Misc/grpa.ipynb#ch0000035?line=3'>4</a>\u001b[0m \u001b[39mdef\u001b[39;00m \u001b[39misPrime\u001b[39m(x):\n",
      "\u001b[1;31mModuleNotFoundError\u001b[0m: No module named 'psycopg2'"
     ]
    }
   ],
   "source": [
    "import psycopg2\n",
    "import sys, os\n",
    "\n",
    "def isPrime(x):\n",
    "    if x <=1:\n",
    "        return False\n",
    "    \n",
    "    for i in range(2,x):\n",
    "        if x%i == 0:\n",
    "            return False\n",
    "        return True\n",
    "\n",
    "conn = None\n",
    "\n",
    "try:\n",
    "    conn = psycopg2.connect(database=sys.argv[1], user=os.environ.get('PGUSER'),)\n",
    "    curr = conn.cursor()\n",
    "\n",
    "    curr.execute(\"select t.name, p.name, p.jersey_no from players p, teams t where p.team_id  = t.id order by p.name desc, t.name desc\")\n",
    "\n",
    "    while True:\n",
    "        row = curr.fetchone()\n",
    "\n",
    "        if not row:\n",
    "            break\n",
    "\n",
    "        if isPrime(row[2]):\n",
    "            print(f'{row[1]}, {row[0]}')\n",
    "        curr.close()\n",
    "\n",
    "except(Exception, psycopg2.DatabaseError) as error:\n",
    "    print(error)\n",
    "\n",
    "finally:\n",
    "    if conn is not None:\n",
    "        conn.close()\n"
   ]
  },
  {
   "cell_type": "code",
   "execution_count": 5,
   "metadata": {},
   "outputs": [],
   "source": [
    "import math\n",
    "import os\n",
    "import random\n",
    "import re\n",
    "import sys\n",
    "\n",
    "\n",
    "def seize(boats):\n",
    "    # Write your code here\n",
    "    res = 0\n",
    "    for i in range(0,len(boats)):\n",
    "        if i % 2 ==0:\n",
    "            res = res+ boats[i]\n",
    "            print(res)\n",
    "            \n",
    "    return res\n"
   ]
  },
  {
   "cell_type": "code",
   "execution_count": 6,
   "metadata": {},
   "outputs": [
    {
     "name": "stdout",
     "output_type": "stream",
     "text": [
      "6\n",
      "11\n",
      "14\n",
      "29\n"
     ]
    },
    {
     "data": {
      "text/plain": [
       "29"
      ]
     },
     "execution_count": 6,
     "metadata": {},
     "output_type": "execute_result"
    }
   ],
   "source": [
    "seize([6,\n",
    "2,\n",
    "5,\n",
    "10,\n",
    "3,\n",
    "2,\n",
    "15])"
   ]
  },
  {
   "cell_type": "code",
   "execution_count": 4,
   "metadata": {},
   "outputs": [
    {
     "name": "stdout",
     "output_type": "stream",
     "text": [
      "-6\n",
      "-20\n",
      "-25\n",
      "-24\n",
      "-22\n",
      "-31\n",
      "-28\n",
      "-31\n",
      "-25\n",
      "-14\n",
      "-24\n",
      "-33\n",
      "-20\n",
      "-24\n",
      "-19\n",
      "-33\n",
      "0\n"
     ]
    }
   ],
   "source": [
    "#!/bin/python3\n",
    "\n",
    "import math\n",
    "import os\n",
    "import random\n",
    "import re\n",
    "import sys\n",
    "\n",
    "\n",
    "\n",
    "if __name__ == '__main__':\n",
    "\n",
    "    arr = []\n",
    "\n",
    "    for _ in range(6):\n",
    "        arr.append(list(map(int, input().rstrip().split())))\n",
    "\n",
    "        \n",
    "row = len(arr)//2\n",
    "col = len(arr[0])//2\n",
    "for i in range(row+1):\n",
    "    for j in range(col+1):\n",
    "        val = arr[i][j]+arr[i][j+1]+arr[i][j+2]+arr[i+1][j+1]+arr[i+2][j]+arr[i+2][j+1]+arr[i+2][j+2]\n",
    "        print(val)\n",
    "        \n",
    "        if val >= res:\n",
    "            res = val\n",
    "        \n",
    "\n",
    "            \n",
    "print(res)\n",
    "            "
   ]
  },
  {
   "cell_type": "code",
   "execution_count": 20,
   "metadata": {},
   "outputs": [
    {
     "data": {
      "text/plain": [
       "([(3, 5)], [3, 5, 7])"
      ]
     },
     "execution_count": 20,
     "metadata": {},
     "output_type": "execute_result"
    }
   ],
   "source": [
    "def Twin_Primes(n,m):\n",
    "    a=[]\n",
    "    res=[]\n",
    "    for i in range(n,m+1):\n",
    "        for j in range(2,i):\n",
    "            if i%j == 0:\n",
    "                break\n",
    "        else:\n",
    "            if i>2:\n",
    "                a.append(i)\n",
    "\n",
    "    for i in range(0,len(a)-1,2):\n",
    "        res.append((a[i],a[i+1]))\n",
    "\n",
    "    return res,a\n",
    "\n",
    "Twin_Primes(2,10)"
   ]
  },
  {
   "cell_type": "code",
   "execution_count": 1,
   "metadata": {},
   "outputs": [
    {
     "name": "stdout",
     "output_type": "stream",
     "text": [
      "1 3\n",
      "2 4\n",
      "3 5\n",
      "4 6\n"
     ]
    }
   ],
   "source": [
    "a = [1,2,3,4]\n",
    "\n",
    "for i in range(len(a)):\n",
    "    print(a[i], a[i]+2)\n",
    "\n",
    "    # print((a[i], a[j]))"
   ]
  },
  {
   "cell_type": "code",
   "execution_count": 18,
   "metadata": {},
   "outputs": [
    {
     "name": "stdout",
     "output_type": "stream",
     "text": [
      "5\n"
     ]
    }
   ],
   "source": [
    "n = 125\n",
    "a = bin(n)\n",
    "binary = a[2:]\n",
    "binary = str(binary)\n",
    "\n",
    "for i in range(len(binary)):\n",
    "    if binary[i] == '0':\n",
    "        print(i)"
   ]
  },
  {
   "cell_type": "code",
   "execution_count": 5,
   "metadata": {},
   "outputs": [],
   "source": [
    "# print(binary)\n"
   ]
  },
  {
   "cell_type": "code",
   "execution_count": 1,
   "metadata": {},
   "outputs": [
    {
     "ename": "SyntaxError",
     "evalue": "invalid syntax (857925508.py, line 6)",
     "output_type": "error",
     "traceback": [
      "\u001b[1;36m  Input \u001b[1;32mIn [1]\u001b[1;36m\u001b[0m\n\u001b[1;33m    i = int(input()):\u001b[0m\n\u001b[1;37m                    ^\u001b[0m\n\u001b[1;31mSyntaxError\u001b[0m\u001b[1;31m:\u001b[0m invalid syntax\n"
     ]
    }
   ],
   "source": [
    "# cook your dish here\n",
    "t = int(input())\n",
    "\n",
    "for a in range(t):\n",
    "    \n",
    "    i = int(input()):\n",
    "        \n",
    "        if i < 51:\n",
    "            print('LEFT')\n",
    "        elif  50 < i < 101:\n",
    "            print('RIGHT')"
   ]
  },
  {
   "cell_type": "code",
   "execution_count": 6,
   "metadata": {},
   "outputs": [
    {
     "data": {
      "text/plain": [
       "[2, 3, 4]"
      ]
     },
     "execution_count": 6,
     "metadata": {},
     "output_type": "execute_result"
    }
   ],
   "source": [
    "def prime(n):\n",
    "    lst=[]\n",
    "    for i in range(1,n+1):\n",
    "        if  n % i != 0 and n > 2:\n",
    "            lst.append(i)\n",
    "    return lst\n",
    "\n",
    "prime(5)"
   ]
  },
  {
   "cell_type": "code",
   "execution_count": 14,
   "metadata": {},
   "outputs": [
    {
     "name": "stdout",
     "output_type": "stream",
     "text": [
      "3\n",
      "4\n",
      "5\n",
      "5\n",
      "5\n"
     ]
    }
   ],
   "source": [
    "n = int(input())\n",
    "for i in range(1,n+1):\n",
    "    for j in range(1,i+1):\n",
    "        if i % j != 0 and n > 2:\n",
    "            print(i)"
   ]
  },
  {
   "cell_type": "code",
   "execution_count": 16,
   "metadata": {},
   "outputs": [
    {
     "name": "stdout",
     "output_type": "stream",
     "text": [
      "1\n",
      "2\n",
      "3\n",
      "5\n"
     ]
    }
   ],
   "source": [
    "# prime number from 1 to n\n",
    "\n",
    "n = int(input())\n",
    "for i in range(1,n+1):\n",
    "    for j in range(2,i):\n",
    "        if i % j == 0:\n",
    "            break\n",
    "    else:\n",
    "        print(i)"
   ]
  },
  {
   "cell_type": "code",
   "execution_count": 1,
   "metadata": {},
   "outputs": [
    {
     "name": "stdout",
     "output_type": "stream",
     "text": [
      "[(5, 11), (7, 9)]\n"
     ]
    }
   ],
   "source": [
    "def prime(n):\n",
    "    if n <2:\n",
    "        return False\n",
    "    for i in range(2, n//2+1):\n",
    "        if n%i == 0:\n",
    "            return False\n",
    "        return True\n",
    "        \n",
    "def Goldbach(n):\n",
    "    res = []\n",
    "    for i in range((n//2)+1):\n",
    "        if prime(i) == True:\n",
    "            if prime(n-i) == True:\n",
    "                res.append((i, n-i))\n",
    "    return res\n",
    "            \n",
    "n=int(input())\n",
    "print(sorted(Goldbach(n)))"
   ]
  },
  {
   "cell_type": "code",
   "execution_count": 5,
   "metadata": {},
   "outputs": [],
   "source": [
    "def odd_one(L):\n",
    "  P = {}\n",
    "  for elem in L:\n",
    "    if type(elem) not in P:\n",
    "      P[type(elem)] = 0\n",
    "    P[type(elem)] += 1\n",
    "  for key, value in P.items():\n",
    "    if value == 1:\n",
    "      return key.__name__"
   ]
  },
  {
   "cell_type": "code",
   "execution_count": 6,
   "metadata": {},
   "outputs": [
    {
     "data": {
      "text/plain": [
       "'float'"
      ]
     },
     "execution_count": 6,
     "metadata": {},
     "output_type": "execute_result"
    }
   ],
   "source": [
    "odd_one([1, 2, 3.4])"
   ]
  },
  {
   "cell_type": "code",
   "execution_count": null,
   "metadata": {},
   "outputs": [],
   "source": [
    "class Triangle:\n",
    "    def __init__(self, a, b, c):\n",
    "        self.a = a\n",
    "        self.b = b\n",
    "        self.c = c\n",
    "\n",
    "    def Is_valid(self):\n",
    "        if self.a + self.b > self.c and self.a + self.c > self.b and self.b + self.c > self.a:\n",
    "            return 'Invalid'\n",
    "        else:\n",
    "            return 'Valid'\n",
    "    def Side_Classification(self):\n",
    "        if self.Is_valid() == 'Valid':\n",
    "            if self.a == self.b == self.c:\n",
    "                return 'Equilateral'\n",
    "            elif self.a == self.b or self.a == self.c or self.b == self.c:\n",
    "                return 'Isosceles'\n",
    "            else:\n",
    "                return 'Scalene'\n",
    "\n",
    "    def Angle_Classification(self):\n",
    "            if self.Is_valid() == 'Valid':\n",
    "                if self.a**2 + self.b**2 == self.c**2 or self.a**2 + self.c**2 == self.b**2 or self.b**2 + self.c**2 == self.a**2:\n",
    "                    return 'Right'\n",
    "                elif self.a**2 + self.b**2 > self.c**2 or self.a**2 + self.c**2 > self.b**2 or self.b**2 + self.c**2 > self.a**2:\n",
    "                    return 'Acute'\n",
    "                else:\n",
    "                    return 'Obtuse'\n",
    "            else:\n",
    "                return 'Invalid'\n",
    "    def Area(self):\n",
    "        if self.Is_valid() == 'Valid':\n",
    "            s = (self.a + self.b + self.c)/2\n",
    "            return (s*(s-self.a)*(s-self.b)*(s-self.c))**0.5\n",
    "        else:\n",
    "            return 'Invalid'"
   ]
  },
  {
   "cell_type": "code",
   "execution_count": null,
   "metadata": {},
   "outputs": [],
   "source": [
    "def binarySearchIndexAndComparisons(L, k):\n",
    "    s = len(L)\n",
    "    if (s<1):\n",
    "        return (False, 0)\n",
    "\n",
    "    left = 0\n",
    "    right = s-1\n",
    "    count = 0\n",
    "    while (left <= right):\n",
    "        count += 1\n",
    "        mid = (left + right)//2\n",
    "        if (L[mid] == k):\n",
    "            return (True, count)\n",
    "        elif (L[mid] > k):\n",
    "            right = mid - 1\n",
    "        else:\n",
    "            left = mid + 1\n",
    "    return (False, count)"
   ]
  },
  {
   "cell_type": "code",
   "execution_count": null,
   "metadata": {},
   "outputs": [],
   "source": [
    "from operator import index\n",
    "\n",
    "\n",
    "def sortInRange(L, r):\n",
    "\n",
    "    countDict = dict.fromkeys(range(r),0)\n",
    "    for num in L:\n",
    "        countDict[i] += 1\n",
    "\n",
    "    index = 0\n",
    "    for key in countDict.keys():\n",
    "        for i in range(countDict[key]):\n",
    "            L[index] = key\n",
    "            index += 1\n"
   ]
  },
  {
   "cell_type": "code",
   "execution_count": null,
   "metadata": {},
   "outputs": [],
   "source": [
    "def insert_end(self,data):\n",
    "    newnode = Node(data)\n",
    "    newnode.prev = self.last\n",
    "    if self.head == None:\n",
    "        self.head = newnode\n",
    "        self.last = newnode\n",
    "    else:\n",
    "        self.last.next = newnode\n",
    "        self.last = newnode\n",
    "def delete_end(self):\n",
    "    if(self.head != None):\n",
    "        if self.head == self.last:\n",
    "            self.head = None\n",
    "            self.last = None\n",
    "        else:\n",
    "            self.last = self.last.prev\n",
    "            self.last.next = None"
   ]
  },
  {
   "cell_type": "code",
   "execution_count": null,
   "metadata": {},
   "outputs": [],
   "source": [
    "def hashfunction(self, data):\n",
    "    i = 0\n",
    "    key = (data % self.m + self.c1*i + self.c2*(i**2)) % self.m\n",
    "    while self.hashtable(key)[key] != None and i < self.m:\n",
    "        i += 1\n",
    "        key = (data % self.m + self.c1*i + self.c2*(i**2)) % self.m\n",
    "    return key\n",
    "\n",
    "def store_data(self, data):\n",
    "    if self.hashtable.count(None) == 0:\n",
    "        key = self.hashfunction(data)\n",
    "        self.hashtable[key] = data\n",
    "    else:\n",
    "        print('Hash table is full')\n",
    "\n",
    "def display_hashtable(self):\n",
    "    return self.hashtable"
   ]
  },
  {
   "cell_type": "code",
   "execution_count": 3,
   "metadata": {},
   "outputs": [
    {
     "name": "stdout",
     "output_type": "stream",
     "text": [
      "0\n"
     ]
    }
   ],
   "source": [
    "sumn = 0\n",
    "i = 10\n",
    "\n",
    "while i < 1:\n",
    "    sum = sum + i\n",
    "    sum = sum * 2\n",
    "    i -=1\n",
    "\n",
    "print(sumn)"
   ]
  },
  {
   "cell_type": "code",
   "execution_count": 6,
   "metadata": {},
   "outputs": [
    {
     "name": "stdout",
     "output_type": "stream",
     "text": [
      "24\n"
     ]
    }
   ],
   "source": [
    "f = lambda n:1 if n <= 1 else n * f(n-1)\n",
    "\n",
    "g = f(4)\n",
    "print(g)"
   ]
  },
  {
   "cell_type": "code",
   "execution_count": 7,
   "metadata": {},
   "outputs": [],
   "source": [
    "def ex(arr):\n",
    "    temp = 0\n",
    "    for x in arr: \n",
    "        if x % 2 ==1:\n",
    "            temp +=1\n",
    "        else:\n",
    "            temp = 0\n",
    "        if temp == 3:\n",
    "            return True\n",
    "    return False"
   ]
  },
  {
   "cell_type": "code",
   "execution_count": 8,
   "metadata": {},
   "outputs": [
    {
     "data": {
      "text/plain": [
       "True"
      ]
     },
     "execution_count": 8,
     "metadata": {},
     "output_type": "execute_result"
    }
   ],
   "source": [
    "ex([4,5,7,23,12])"
   ]
  },
  {
   "cell_type": "code",
   "execution_count": 9,
   "metadata": {},
   "outputs": [],
   "source": [
    "def a(nums):\n",
    "    has_pos = False\n",
    "    has_neg = False\n",
    "    for num in nums:\n",
    "        has_pos = num > 0\n",
    "        has_neg = num < 0\n",
    "\n",
    "    return (has_pos, has_neg)"
   ]
  },
  {
   "cell_type": "code",
   "execution_count": 10,
   "metadata": {},
   "outputs": [
    {
     "data": {
      "text/plain": [
       "(False, True)"
      ]
     },
     "execution_count": 10,
     "metadata": {},
     "output_type": "execute_result"
    }
   ],
   "source": [
    "a([1,-1,-2])"
   ]
  },
  {
   "cell_type": "code",
   "execution_count": 11,
   "metadata": {},
   "outputs": [
    {
     "name": "stdout",
     "output_type": "stream",
     "text": [
      "['-7', '1', '15', '2', '300']\n"
     ]
    }
   ],
   "source": [
    "print(sorted([\"1\", \"2\", \"15\", \"-7\", \"300\"]))"
   ]
  },
  {
   "cell_type": "code",
   "execution_count": 12,
   "metadata": {},
   "outputs": [],
   "source": [
    "def find_first_position(arr, fn):\n",
    "    pos  = False\n",
    "    for i in range(len(arr)):\n",
    "       row = arr[i]\n",
    "       for j in range(len(row)):\n",
    "              if fn(row[j]):\n",
    "                pos = (i, j)\n",
    "                break\n",
    "    return pos\n"
   ]
  },
  {
   "cell_type": "code",
   "execution_count": null,
   "metadata": {},
   "outputs": [],
   "source": []
  }
 ],
 "metadata": {
  "kernelspec": {
   "display_name": "Python 3.10.3 64-bit",
   "language": "python",
   "name": "python3"
  },
  "language_info": {
   "codemirror_mode": {
    "name": "ipython",
    "version": 3
   },
   "file_extension": ".py",
   "mimetype": "text/x-python",
   "name": "python",
   "nbconvert_exporter": "python",
   "pygments_lexer": "ipython3",
   "version": "3.10.3"
  },
  "orig_nbformat": 4,
  "vscode": {
   "interpreter": {
    "hash": "fbc768028c3e6ead51d9a200ddcb2ec858ae62844dcd1994729a8279be9b48f2"
   }
  }
 },
 "nbformat": 4,
 "nbformat_minor": 2
}
