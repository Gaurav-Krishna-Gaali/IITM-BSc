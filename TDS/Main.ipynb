{
 "cells": [
  {
   "cell_type": "code",
   "execution_count": 2,
   "metadata": {},
   "outputs": [],
   "source": [
    "from bs4 import BeautifulSoup as bs\n",
    "import requests"
   ]
  },
  {
   "cell_type": "code",
   "execution_count": 13,
   "metadata": {},
   "outputs": [
    {
     "data": {
      "text/plain": [
       "532917"
      ]
     },
     "execution_count": 13,
     "metadata": {},
     "output_type": "execute_result"
    }
   ],
   "source": [
    "r = requests.get(\"https://www.espn.in/football/scoreboard\")\n",
    "soup = bs(r.content)\n",
    "contents = soup.prettify()\n",
    "# print(contents)\n",
    "file = open(\"espn.html\", \"w\")\n",
    "file.write(str(soup))"
   ]
  },
  {
   "cell_type": "code",
   "execution_count": 17,
   "metadata": {},
   "outputs": [
    {
     "name": "stdout",
     "output_type": "stream",
     "text": [
      "-123.033121 44.9391565\n"
     ]
    }
   ],
   "source": [
    "from geopy.geocoders import Nominatim\n",
    "\n",
    "# Create a Nominatim geocoder object\n",
    "geolocator = Nominatim(user_agent=\"my_app\")\n",
    "\n",
    "# Specify the city for geocoding\n",
    "city = \"Salem\"\n",
    "\n",
    "# Use Nominatim geocoder to get the location\n",
    "location = geolocator.geocode(city)\n",
    "\n",
    "# Extract the latitude from the location\n",
    "longitude = location.longitude\n",
    "latitude = location.latitude\n",
    "\n",
    "# Print the latitude\n",
    "print(longitude, latitude)\n"
   ]
  },
  {
   "cell_type": "code",
   "execution_count": null,
   "metadata": {},
   "outputs": [],
   "source": []
  }
 ],
 "metadata": {
  "kernelspec": {
   "display_name": "Python 3",
   "language": "python",
   "name": "python3"
  },
  "language_info": {
   "codemirror_mode": {
    "name": "ipython",
    "version": 3
   },
   "file_extension": ".py",
   "mimetype": "text/x-python",
   "name": "python",
   "nbconvert_exporter": "python",
   "pygments_lexer": "ipython3",
   "version": "3.10.3"
  },
  "orig_nbformat": 4
 },
 "nbformat": 4,
 "nbformat_minor": 2
}
